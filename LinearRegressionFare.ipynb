{
 "cells": [
  {
   "cell_type": "code",
   "execution_count": 23,
   "id": "7b6cc8ae-1919-48fb-9986-e1f9f692ff47",
   "metadata": {},
   "outputs": [],
   "source": [
    "#general\n",
    "import io\n",
    "\n",
    "# data\n",
    "import numpy as np\n",
    "import pandas as pd\n",
    "\n",
    "# machine learning\n",
    "import keras\n",
    "\n",
    "# data visualization\n",
    "import plotly.express as px\n",
    "from plotly.subplots import make_subplots\n",
    "import plotly.graph_objects as go\n",
    "import seaborn as sns\n",
    "import matplotlib.pyplot as plt"
   ]
  },
  {
   "cell_type": "code",
   "execution_count": 24,
   "id": "34b4e6c7-d1e0-4429-b0cc-6bd74303ac73",
   "metadata": {},
   "outputs": [],
   "source": [
    "training_df = pd.read_csv(\"https://download.mlcc.google.com/mledu-datasets/chicago_taxi_train.csv\")\n",
    "training_df = training_df[['TRIP_MILES', 'TRIP_SECONDS', 'FARE', 'COMPANY', 'PAYMENT_TYPE', 'TIP_RATE']]"
   ]
  },
  {
   "cell_type": "code",
   "execution_count": 25,
   "id": "181b8d63-10dc-4560-bf23-0f57e34beb7e",
   "metadata": {},
   "outputs": [
    {
     "name": "stdout",
     "output_type": "stream",
     "text": [
      "Read dataset completed successfully.\n",
      "Total number of rows: 31694\n",
      "\n",
      "\n",
      "     TRIP_MILES  TRIP_SECONDS   FARE                       COMPANY  \\\n",
      "0          2.57          2341  31.99                     Flash Cab   \n",
      "1          1.18          1074   9.75                     Flash Cab   \n",
      "2          1.29          1173  10.25                      Sun Taxi   \n",
      "3          3.70          3360  23.75       Choice Taxi Association   \n",
      "4          1.15          1044  10.00                     Flash Cab   \n",
      "..          ...           ...    ...                           ...   \n",
      "195        1.13           821   9.00  Blue Ribbon Taxi Association   \n",
      "196        0.57           414   6.00                     Flash Cab   \n",
      "197        1.22           886   9.00                  City Service   \n",
      "198        1.68          1219   9.00                      Sun Taxi   \n",
      "199        0.71           515   6.50                      Sun Taxi   \n",
      "\n",
      "    PAYMENT_TYPE  TIP_RATE  \n",
      "0         Mobile       6.3  \n",
      "1    Credit Card      27.9  \n",
      "2           Cash       0.0  \n",
      "3           Cash       0.0  \n",
      "4           Cash       0.0  \n",
      "..           ...       ...  \n",
      "195       Mobile      22.9  \n",
      "196         Cash       0.0  \n",
      "197         Cash       0.0  \n",
      "198       Mobile      23.0  \n",
      "199  Credit Card      18.2  \n",
      "\n",
      "[200 rows x 6 columns]\n"
     ]
    }
   ],
   "source": [
    "    print('Read dataset completed successfully.')\n",
    "    print('Total number of rows: {0}\\n\\n'.format(len(training_df.index)))\n",
    "    print(training_df.head(200))"
   ]
  },
  {
   "cell_type": "code",
   "execution_count": 26,
   "id": "1cb56005-c758-4f07-b5f3-c85001abb3a9",
   "metadata": {},
   "outputs": [
    {
     "name": "stdout",
     "output_type": "stream",
     "text": [
      "Total number of rows: 31694\n",
      "\n",
      "\n"
     ]
    },
    {
     "data": {
      "text/html": [
       "<div>\n",
       "<style scoped>\n",
       "    .dataframe tbody tr th:only-of-type {\n",
       "        vertical-align: middle;\n",
       "    }\n",
       "\n",
       "    .dataframe tbody tr th {\n",
       "        vertical-align: top;\n",
       "    }\n",
       "\n",
       "    .dataframe thead th {\n",
       "        text-align: right;\n",
       "    }\n",
       "</style>\n",
       "<table border=\"1\" class=\"dataframe\">\n",
       "  <thead>\n",
       "    <tr style=\"text-align: right;\">\n",
       "      <th></th>\n",
       "      <th>TRIP_MILES</th>\n",
       "      <th>TRIP_SECONDS</th>\n",
       "      <th>FARE</th>\n",
       "      <th>COMPANY</th>\n",
       "      <th>PAYMENT_TYPE</th>\n",
       "      <th>TIP_RATE</th>\n",
       "    </tr>\n",
       "  </thead>\n",
       "  <tbody>\n",
       "    <tr>\n",
       "      <th>count</th>\n",
       "      <td>31694.000000</td>\n",
       "      <td>31694.000000</td>\n",
       "      <td>31694.000000</td>\n",
       "      <td>31694</td>\n",
       "      <td>31694</td>\n",
       "      <td>31694.000000</td>\n",
       "    </tr>\n",
       "    <tr>\n",
       "      <th>unique</th>\n",
       "      <td>NaN</td>\n",
       "      <td>NaN</td>\n",
       "      <td>NaN</td>\n",
       "      <td>31</td>\n",
       "      <td>7</td>\n",
       "      <td>NaN</td>\n",
       "    </tr>\n",
       "    <tr>\n",
       "      <th>top</th>\n",
       "      <td>NaN</td>\n",
       "      <td>NaN</td>\n",
       "      <td>NaN</td>\n",
       "      <td>Flash Cab</td>\n",
       "      <td>Credit Card</td>\n",
       "      <td>NaN</td>\n",
       "    </tr>\n",
       "    <tr>\n",
       "      <th>freq</th>\n",
       "      <td>NaN</td>\n",
       "      <td>NaN</td>\n",
       "      <td>NaN</td>\n",
       "      <td>7887</td>\n",
       "      <td>14142</td>\n",
       "      <td>NaN</td>\n",
       "    </tr>\n",
       "    <tr>\n",
       "      <th>mean</th>\n",
       "      <td>8.289463</td>\n",
       "      <td>1319.796397</td>\n",
       "      <td>23.905210</td>\n",
       "      <td>NaN</td>\n",
       "      <td>NaN</td>\n",
       "      <td>12.965785</td>\n",
       "    </tr>\n",
       "    <tr>\n",
       "      <th>std</th>\n",
       "      <td>7.265672</td>\n",
       "      <td>928.932873</td>\n",
       "      <td>16.970022</td>\n",
       "      <td>NaN</td>\n",
       "      <td>NaN</td>\n",
       "      <td>15.517765</td>\n",
       "    </tr>\n",
       "    <tr>\n",
       "      <th>min</th>\n",
       "      <td>0.500000</td>\n",
       "      <td>60.000000</td>\n",
       "      <td>3.250000</td>\n",
       "      <td>NaN</td>\n",
       "      <td>NaN</td>\n",
       "      <td>0.000000</td>\n",
       "    </tr>\n",
       "    <tr>\n",
       "      <th>25%</th>\n",
       "      <td>1.720000</td>\n",
       "      <td>548.000000</td>\n",
       "      <td>9.000000</td>\n",
       "      <td>NaN</td>\n",
       "      <td>NaN</td>\n",
       "      <td>0.000000</td>\n",
       "    </tr>\n",
       "    <tr>\n",
       "      <th>50%</th>\n",
       "      <td>5.920000</td>\n",
       "      <td>1081.000000</td>\n",
       "      <td>18.750000</td>\n",
       "      <td>NaN</td>\n",
       "      <td>NaN</td>\n",
       "      <td>12.200000</td>\n",
       "    </tr>\n",
       "    <tr>\n",
       "      <th>75%</th>\n",
       "      <td>14.500000</td>\n",
       "      <td>1888.000000</td>\n",
       "      <td>38.750000</td>\n",
       "      <td>NaN</td>\n",
       "      <td>NaN</td>\n",
       "      <td>20.800000</td>\n",
       "    </tr>\n",
       "    <tr>\n",
       "      <th>max</th>\n",
       "      <td>68.120000</td>\n",
       "      <td>7140.000000</td>\n",
       "      <td>159.250000</td>\n",
       "      <td>NaN</td>\n",
       "      <td>NaN</td>\n",
       "      <td>648.600000</td>\n",
       "    </tr>\n",
       "  </tbody>\n",
       "</table>\n",
       "</div>"
      ],
      "text/plain": [
       "          TRIP_MILES  TRIP_SECONDS          FARE    COMPANY PAYMENT_TYPE  \\\n",
       "count   31694.000000  31694.000000  31694.000000      31694        31694   \n",
       "unique           NaN           NaN           NaN         31            7   \n",
       "top              NaN           NaN           NaN  Flash Cab  Credit Card   \n",
       "freq             NaN           NaN           NaN       7887        14142   \n",
       "mean        8.289463   1319.796397     23.905210        NaN          NaN   \n",
       "std         7.265672    928.932873     16.970022        NaN          NaN   \n",
       "min         0.500000     60.000000      3.250000        NaN          NaN   \n",
       "25%         1.720000    548.000000      9.000000        NaN          NaN   \n",
       "50%         5.920000   1081.000000     18.750000        NaN          NaN   \n",
       "75%        14.500000   1888.000000     38.750000        NaN          NaN   \n",
       "max        68.120000   7140.000000    159.250000        NaN          NaN   \n",
       "\n",
       "            TIP_RATE  \n",
       "count   31694.000000  \n",
       "unique           NaN  \n",
       "top              NaN  \n",
       "freq             NaN  \n",
       "mean       12.965785  \n",
       "std        15.517765  \n",
       "min         0.000000  \n",
       "25%         0.000000  \n",
       "50%        12.200000  \n",
       "75%        20.800000  \n",
       "max       648.600000  "
      ]
     },
     "execution_count": 26,
     "metadata": {},
     "output_type": "execute_result"
    }
   ],
   "source": [
    "    # View dataset statistics\n",
    "    print('Total number of rows: {0}\\n\\n'.format(len(training_df.index)))\n",
    "    training_df.describe(include='all')"
   ]
  },
  {
   "cell_type": "code",
   "execution_count": 27,
   "id": "f271976e-ec29-4d33-a181-dfde842e575d",
   "metadata": {},
   "outputs": [
    {
     "name": "stdout",
     "output_type": "stream",
     "text": [
      "What is the maximum fare? \t\t\t\t\t\tAnswer: $159.25\n",
      "What is the mean distance across all trips? \tAnswer: 8.2895 miles\n",
      "How many cab companies are in the dataset? \t\tAnswer: 31\n",
      "What is the most frequent payment type? \t\tAnswer: Credit Card\n",
      "Are any features missing data? \t\t\t\t\tAnswer: No\n",
      "\n"
     ]
    }
   ],
   "source": [
    "    # What is the maximum fare?\n",
    "    max_fare = training_df['FARE'].max()\n",
    "    print(\"What is the maximum fare? \\t\\t\\t\\t\\t\\tAnswer: ${fare:.2f}\".format(fare=max_fare))\n",
    "\n",
    "    # What is the mean distance across all trips?\n",
    "    mean_distance = training_df['TRIP_MILES'].mean()\n",
    "    print(\"What is the mean distance across all trips? \\tAnswer: {mean:.4f} miles\".format(mean=mean_distance))\n",
    "\n",
    "    # How many cab companies are in the dataset?\n",
    "    num_unique_companies = training_df['COMPANY'].nunique()\n",
    "    print(\"How many cab companies are in the dataset? \\t\\tAnswer: {number}\".format(number=num_unique_companies))\n",
    "\n",
    "    # What is the most frequent payment type?\n",
    "    most_freq_payment_type = training_df['PAYMENT_TYPE'].value_counts().idxmax()\n",
    "    print(\"What is the most frequent payment type? \\t\\tAnswer: {type}\".format(type=most_freq_payment_type))\n",
    "\n",
    "    # Are any features missing data?\n",
    "    missing_values = training_df.isnull().sum().sum()\n",
    "    print(\"Are any features missing data? \\t\\t\\t\\t\\tAnswer:\", \"No\\n\" if missing_values == 0 else \"Yes\\n\")"
   ]
  },
  {
   "cell_type": "code",
   "execution_count": 28,
   "id": "6a28508b-998b-4f2f-b4f8-a594f8a1aaa4",
   "metadata": {},
   "outputs": [
    {
     "name": "stdout",
     "output_type": "stream",
     "text": [
      "              TRIP_MILES  TRIP_SECONDS      FARE  TIP_RATE\n",
      "TRIP_MILES      1.000000      0.800855  0.975344 -0.049594\n",
      "TRIP_SECONDS    0.800855      1.000000  0.830292 -0.084294\n",
      "FARE            0.975344      0.830292  1.000000 -0.070979\n",
      "TIP_RATE       -0.049594     -0.084294 -0.070979  1.000000\n"
     ]
    }
   ],
   "source": [
    "    # View correlation matrix\n",
    "    print(training_df.corr(numeric_only=True))"
   ]
  },
  {
   "cell_type": "code",
   "execution_count": 29,
   "id": "dccdf6e9-2564-4d7b-ae31-34929e7de14c",
   "metadata": {},
   "outputs": [
    {
     "data": {
      "text/plain": [
       "<seaborn.axisgrid.PairGrid at 0x236c3e21e50>"
      ]
     },
     "execution_count": 29,
     "metadata": {},
     "output_type": "execute_result"
    },
    {
     "data": {
      "image/png": "[encoded data removed]",
      "text/plain": [
       "<Figure size 750x750 with 12 Axes>"
      ]
     },
     "metadata": {},
     "output_type": "display_data"
    }
   ],
   "source": [
    "sns.pairplot(training_df, x_vars=[\"FARE\", \"TRIP_MILES\", \"TRIP_SECONDS\"], y_vars=[\"FARE\", \"TRIP_MILES\", \"TRIP_SECONDS\"])"
   ]
  },
  {
   "cell_type": "code",
   "execution_count": 30,
   "id": "a02d02c5-9fe6-4ece-a382-e776e2701538",
   "metadata": {},
   "outputs": [
    {
     "name": "stdout",
     "output_type": "stream",
     "text": [
      "SUCCESS: defining plotting functions complete.\n"
     ]
    }
   ],
   "source": [
    "def make_plots(df, feature_names, label_name, model_output, sample_size=200):\n",
    "\n",
    "  random_sample = df.sample(n=sample_size).copy()\n",
    "  random_sample.reset_index()\n",
    "  weights, bias, epochs, rmse = model_output\n",
    "\n",
    "  is_2d_plot = len(feature_names) == 1\n",
    "  model_plot_type = \"scatter\" if is_2d_plot else \"surface\"\n",
    "  fig = make_subplots(rows=1, cols=2,\n",
    "                      subplot_titles=(\"Loss Curve\", \"Model Plot\"),\n",
    "                      specs=[[{\"type\": \"scatter\"}, {\"type\": model_plot_type}]])\n",
    "\n",
    "  plot_data(random_sample, feature_names, label_name, fig)\n",
    "  plot_model(random_sample, feature_names, weights, bias, fig)\n",
    "  plot_loss_curve(epochs, rmse, fig)\n",
    "\n",
    "  fig.show()\n",
    "  return\n",
    "\n",
    "def plot_loss_curve(epochs, rmse, fig):\n",
    "  curve = px.line(x=epochs, y=rmse)\n",
    "  curve.update_traces(line_color='#ff0000', line_width=3)\n",
    "\n",
    "  fig.append_trace(curve.data[0], row=1, col=1)\n",
    "  fig.update_xaxes(title_text=\"Epoch\", row=1, col=1)\n",
    "  fig.update_yaxes(title_text=\"Root Mean Squared Error\", row=1, col=1, range=[rmse.min()*0.8, rmse.max()])\n",
    "\n",
    "  return\n",
    "\n",
    "def plot_data(df, features, label, fig):\n",
    "  if len(features) == 1:\n",
    "    scatter = px.scatter(df, x=features[0], y=label)\n",
    "  else:\n",
    "    scatter = px.scatter_3d(df, x=features[0], y=features[1], z=label)\n",
    "\n",
    "  fig.append_trace(scatter.data[0], row=1, col=2)\n",
    "  if len(features) == 1:\n",
    "    fig.update_xaxes(title_text=features[0], row=1, col=2)\n",
    "    fig.update_yaxes(title_text=label, row=1, col=2)\n",
    "  else:\n",
    "    fig.update_layout(scene1=dict(xaxis_title=features[0], yaxis_title=features[1], zaxis_title=label))\n",
    "\n",
    "  return\n",
    "\n",
    "def plot_model(df, features, weights, bias, fig):\n",
    "  df['FARE_PREDICTED'] = bias[0]\n",
    "\n",
    "  for index, feature in enumerate(features):\n",
    "    df['FARE_PREDICTED'] = df['FARE_PREDICTED'] + weights[index][0] * df[feature]\n",
    "\n",
    "  if len(features) == 1:\n",
    "    model = px.line(df, x=features[0], y='FARE_PREDICTED')\n",
    "    model.update_traces(line_color='#ff0000', line_width=3)\n",
    "  else:\n",
    "    z_name, y_name = \"FARE_PREDICTED\", features[1]\n",
    "    z = [df[z_name].min(), (df[z_name].max() - df[z_name].min()) / 2, df[z_name].max()]\n",
    "    y = [df[y_name].min(), (df[y_name].max() - df[y_name].min()) / 2, df[y_name].max()]\n",
    "    x = []\n",
    "    for i in range(len(y)):\n",
    "      x.append((z[i] - weights[1][0] * y[i] - bias[0]) / weights[0][0])\n",
    "\n",
    "    plane=pd.DataFrame({'x':x, 'y':y, 'z':[z] * 3})\n",
    "\n",
    "    light_yellow = [[0, '#89CFF0'], [1, '#FFDB58']]\n",
    "    model = go.Figure(data=go.Surface(x=plane['x'], y=plane['y'], z=plane['z'],\n",
    "                                      colorscale=light_yellow))\n",
    "\n",
    "  fig.add_trace(model.data[0], row=1, col=2)\n",
    "\n",
    "  return\n",
    "\n",
    "def model_info(feature_names, label_name, model_output):\n",
    "  weights = model_output[0]\n",
    "  bias = model_output[1]\n",
    "\n",
    "  nl = \"\\n\"\n",
    "  header = \"-\" * 80\n",
    "  banner = header + nl + \"|\" + \"MODEL INFO\".center(78) + \"|\" + nl + header\n",
    "\n",
    "  info = \"\"\n",
    "  equation = label_name + \" = \"\n",
    "\n",
    "  for index, feature in enumerate(feature_names):\n",
    "    info = info + \"Weight for feature[{}]: {:.3f}\\n\".format(feature, weights[index][0])\n",
    "    equation = equation + \"{:.3f} * {} + \".format(weights[index][0], feature)\n",
    "\n",
    "  info = info + \"Bias: {:.3f}\\n\".format(bias[0])\n",
    "  equation = equation + \"{:.3f}\\n\".format(bias[0])\n",
    "\n",
    "  return banner + nl + info + nl + equation\n",
    "\n",
    "print(\"SUCCESS: defining plotting functions complete.\")"
   ]
  },
  {
   "cell_type": "code",
   "execution_count": 31,
   "id": "8a192d50-33b4-4285-ac5b-da56cf304134",
   "metadata": {},
   "outputs": [
    {
     "name": "stdout",
     "output_type": "stream",
     "text": [
      "SUCCESS: defining linear regression functions complete.\n"
     ]
    }
   ],
   "source": [
    "def build_model(my_learning_rate, num_features):\n",
    "  \"\"\"Create and compile a simple linear regression model.\"\"\"\n",
    "  # Most simple keras models are sequential.\n",
    "  model = keras.models.Sequential()\n",
    "\n",
    "  # Describe the topography of the model.\n",
    "  # The topography of a simple linear regression model\n",
    "  # is a single node in a single layer.\n",
    "  model.add(keras.layers.Dense(units=1,\n",
    "                                  input_shape=(num_features,)))\n",
    "\n",
    "  # Compile the model topography into code that Keras can efficiently\n",
    "  # execute. Configure training to minimize the model's mean squared error.\n",
    "  model.compile(optimizer=keras.optimizers.RMSprop(learning_rate=my_learning_rate),\n",
    "                loss=\"mean_squared_error\",\n",
    "                metrics=[keras.metrics.RootMeanSquaredError()])\n",
    "\n",
    "  return model\n",
    "\n",
    "\n",
    "def train_model(model, df, features, label, epochs, batch_size):\n",
    "  \"\"\"Train the model by feeding it data.\"\"\"\n",
    "\n",
    "  # Feed the model the feature and the label.\n",
    "  # The model will train for the specified number of epochs.\n",
    "  # input_x = df.iloc[:,1:3].values\n",
    "  # df[feature]\n",
    "  history = model.fit(x=features,\n",
    "                      y=label,\n",
    "                      batch_size=batch_size,\n",
    "                      epochs=epochs)\n",
    "\n",
    "  # Gather the trained model's weight and bias.\n",
    "  trained_weight = model.get_weights()[0]\n",
    "  trained_bias = model.get_weights()[1]\n",
    "\n",
    "  # The list of epochs is stored separately from the rest of history.\n",
    "  epochs = history.epoch\n",
    "\n",
    "  # Isolate the error for each epoch.\n",
    "  hist = pd.DataFrame(history.history)\n",
    "\n",
    "  # To track the progression of training, we're going to take a snapshot\n",
    "  # of the model's root mean squared error at each epoch.\n",
    "  rmse = hist[\"root_mean_squared_error\"]\n",
    "\n",
    "  return trained_weight, trained_bias, epochs, rmse\n",
    "\n",
    "\n",
    "def run_experiment(df, feature_names, label_name, learning_rate, epochs, batch_size):\n",
    "\n",
    "  print('INFO: starting training experiment with features={} and label={}\\n'.format(feature_names, label_name))\n",
    "\n",
    "  num_features = len(feature_names)\n",
    "\n",
    "  features = df.loc[:, feature_names].values\n",
    "  label = df[label_name].values\n",
    "\n",
    "  model = build_model(learning_rate, num_features)\n",
    "  model_output = train_model(model, df, features, label, epochs, batch_size)\n",
    "\n",
    "  print('\\nSUCCESS: training experiment complete\\n')\n",
    "  print('{}'.format(model_info(feature_names, label_name, model_output)))\n",
    "  make_plots(df, feature_names, label_name, model_output)\n",
    "\n",
    "  return model\n",
    "\n",
    "print(\"SUCCESS: defining linear regression functions complete.\")"
   ]
  },
  {
   "cell_type": "code",
   "execution_count": 47,
   "id": "fd92fca2-99cf-475d-ba55-f74a2966788b",
   "metadata": {},
   "outputs": [
    {
     "name": "stdout",
     "output_type": "stream",
     "text": [
      "INFO: starting training experiment with features=['TRIP_MILES'] and label=FARE\n",
      "\n",
      "Epoch 1/20\n"
     ]
    },
    {
     "name": "stderr",
     "output_type": "stream",
     "text": [
      "C:\\Users\\cdsmi\\AppData\\Roaming\\Python\\Python312\\site-packages\\keras\\src\\layers\\core\\dense.py:87: UserWarning:\n",
      "\n",
      "Do not pass an `input_shape`/`input_dim` argument to a layer. When using Sequential models, prefer using an `Input(shape)` object as the first layer in the model instead.\n",
      "\n"
     ]
    },
    {
     "name": "stdout",
     "output_type": "stream",
     "text": [
      "\u001b[1m634/634\u001b[0m \u001b[32m━━━━━━━━━━━━━━━━━━━━\u001b[0m\u001b[37m\u001b[0m \u001b[1m1s\u001b[0m 823us/step - loss: 1806.2357 - root_mean_squared_error: 42.4881\n",
      "Epoch 2/20\n",
      "\u001b[1m634/634\u001b[0m \u001b[32m━━━━━━━━━━━━━━━━━━━━\u001b[0m\u001b[37m\u001b[0m \u001b[1m1s\u001b[0m 1ms/step - loss: 1243.6555 - root_mean_squared_error: 35.2534\n",
      "Epoch 3/20\n",
      "\u001b[1m634/634\u001b[0m \u001b[32m━━━━━━━━━━━━━━━━━━━━\u001b[0m\u001b[37m\u001b[0m \u001b[1m0s\u001b[0m 563us/step - loss: 794.1058 - root_mean_squared_error: 28.1601\n",
      "Epoch 4/20\n",
      "\u001b[1m634/634\u001b[0m \u001b[32m━━━━━━━━━━━━━━━━━━━━\u001b[0m\u001b[37m\u001b[0m \u001b[1m1s\u001b[0m 1ms/step - loss: 439.2358 - root_mean_squared_error: 20.9329\n",
      "Epoch 5/20\n",
      "\u001b[1m634/634\u001b[0m \u001b[32m━━━━━━━━━━━━━━━━━━━━\u001b[0m\u001b[37m\u001b[0m \u001b[1m1s\u001b[0m 1ms/step - loss: 193.5206 - root_mean_squared_error: 13.8783\n",
      "Epoch 6/20\n",
      "\u001b[1m634/634\u001b[0m \u001b[32m━━━━━━━━━━━━━━━━━━━━\u001b[0m\u001b[37m\u001b[0m \u001b[1m1s\u001b[0m 1ms/step - loss: 52.6722 - root_mean_squared_error: 7.2221\n",
      "Epoch 7/20\n",
      "\u001b[1m634/634\u001b[0m \u001b[32m━━━━━━━━━━━━━━━━━━━━\u001b[0m\u001b[37m\u001b[0m \u001b[1m1s\u001b[0m 903us/step - loss: 15.5281 - root_mean_squared_error: 3.9302\n",
      "Epoch 8/20\n",
      "\u001b[1m634/634\u001b[0m \u001b[32m━━━━━━━━━━━━━━━━━━━━\u001b[0m\u001b[37m\u001b[0m \u001b[1m1s\u001b[0m 932us/step - loss: 12.8333 - root_mean_squared_error: 3.5733\n",
      "Epoch 9/20\n",
      "\u001b[1m634/634\u001b[0m \u001b[32m━━━━━━━━━━━━━━━━━━━━\u001b[0m\u001b[37m\u001b[0m \u001b[1m1s\u001b[0m 986us/step - loss: 14.7142 - root_mean_squared_error: 3.8322\n",
      "Epoch 10/20\n",
      "\u001b[1m634/634\u001b[0m \u001b[32m━━━━━━━━━━━━━━━━━━━━\u001b[0m\u001b[37m\u001b[0m \u001b[1m1s\u001b[0m 929us/step - loss: 12.7217 - root_mean_squared_error: 3.5541\n",
      "Epoch 11/20\n",
      "\u001b[1m634/634\u001b[0m \u001b[32m━━━━━━━━━━━━━━━━━━━━\u001b[0m\u001b[37m\u001b[0m \u001b[1m1s\u001b[0m 1ms/step - loss: 15.0417 - root_mean_squared_error: 3.8681\n",
      "Epoch 12/20\n",
      "\u001b[1m634/634\u001b[0m \u001b[32m━━━━━━━━━━━━━━━━━━━━\u001b[0m\u001b[37m\u001b[0m \u001b[1m1s\u001b[0m 751us/step - loss: 13.9385 - root_mean_squared_error: 3.7276\n",
      "Epoch 13/20\n",
      "\u001b[1m634/634\u001b[0m \u001b[32m━━━━━━━━━━━━━━━━━━━━\u001b[0m\u001b[37m\u001b[0m \u001b[1m1s\u001b[0m 1ms/step - loss: 14.5938 - root_mean_squared_error: 3.8161\n",
      "Epoch 14/20\n",
      "\u001b[1m634/634\u001b[0m \u001b[32m━━━━━━━━━━━━━━━━━━━━\u001b[0m\u001b[37m\u001b[0m \u001b[1m1s\u001b[0m 1ms/step - loss: 15.1303 - root_mean_squared_error: 3.8821\n",
      "Epoch 15/20\n",
      "\u001b[1m634/634\u001b[0m \u001b[32m━━━━━━━━━━━━━━━━━━━━\u001b[0m\u001b[37m\u001b[0m \u001b[1m1s\u001b[0m 1ms/step - loss: 13.4481 - root_mean_squared_error: 3.6562\n",
      "Epoch 16/20\n",
      "\u001b[1m634/634\u001b[0m \u001b[32m━━━━━━━━━━━━━━━━━━━━\u001b[0m\u001b[37m\u001b[0m \u001b[1m1s\u001b[0m 888us/step - loss: 16.0392 - root_mean_squared_error: 3.9922\n",
      "Epoch 17/20\n",
      "\u001b[1m634/634\u001b[0m \u001b[32m━━━━━━━━━━━━━━━━━━━━\u001b[0m\u001b[37m\u001b[0m \u001b[1m1s\u001b[0m 1ms/step - loss: 14.7275 - root_mean_squared_error: 3.8321\n",
      "Epoch 18/20\n",
      "\u001b[1m634/634\u001b[0m \u001b[32m━━━━━━━━━━━━━━━━━━━━\u001b[0m\u001b[37m\u001b[0m \u001b[1m1s\u001b[0m 1ms/step - loss: 12.4990 - root_mean_squared_error: 3.5273\n",
      "Epoch 19/20\n",
      "\u001b[1m634/634\u001b[0m \u001b[32m━━━━━━━━━━━━━━━━━━━━\u001b[0m\u001b[37m\u001b[0m \u001b[1m1s\u001b[0m 1ms/step - loss: 13.4097 - root_mean_squared_error: 3.6568\n",
      "Epoch 20/20\n",
      "\u001b[1m634/634\u001b[0m \u001b[32m━━━━━━━━━━━━━━━━━━━━\u001b[0m\u001b[37m\u001b[0m \u001b[1m1s\u001b[0m 1ms/step - loss: 14.9186 - root_mean_squared_error: 3.8508\n",
      "\n",
      "SUCCESS: training experiment complete\n",
      "\n",
      "--------------------------------------------------------------------------------\n",
      "|                                  MODEL INFO                                  |\n",
      "--------------------------------------------------------------------------------\n",
      "Weight for feature[TRIP_MILES]: 2.275\n",
      "Bias: 4.981\n",
      "\n",
      "FARE = 2.275 * TRIP_MILES + 4.981\n",
      "\n"
     ]
    },
    {
     "data": {
      "application/vnd.plotly.v1+json": {
       "config": {
        "plotlyServerURL": "https://plot.ly"
       },
       "data": [
        {
         "hovertemplate": "TRIP_MILES=%{x}<br>FARE=%{y}<extra></extra>",
         "legendgroup": "",
         "marker": {
          "color": "#636efa",
          "symbol": "circle"
         },
         "mode": "markers",
         "name": "",
         "orientation": "v",
         "showlegend": false,
         "type": "scatter",
         "x": [
          21,
          12,
          3.71,
          2.8,
          17.81,
          2.67,
          4.85,
          18.89,
          1.01,
          2,
          4.49,
          11.8,
          11,
          3.27,
          2.92,
          18.1,
          18.54,
          9.68,
          2.18,
          14,
          1.56,
          1,
          3.2,
          0.95,
          17.61,
          6.84,
          17.51,
          19.3,
          11.37,
          17.55,
          2.54,
          16.21,
          4.8,
          11.31,
          11.22,
          4.13,
          0.68,
          1.24,
          8.84,
          5.6,
          3.71,
          10.2,
          1.2,
          12.13,
          17.15,
          8.9,
          16.41,
          5.2,
          17.13,
          16.8,
          7.14,
          1.7,
          1.49,
          17.56,
          0.92,
          14.56,
          18.4,
          1.97,
          9.61,
          9.24,
          9.55,
          1.96,
          6.7,
          5.07,
          1.85,
          4.2,
          1.4,
          1.2,
          18.2,
          12.08,
          2.44,
          1.79,
          12.93,
          5.59,
          6.21,
          10.19,
          15.36,
          0.79,
          11.26,
          19.76,
          0.57,
          5.83,
          17.21,
          18,
          1.1,
          2.2,
          17.82,
          3.21,
          18.57,
          18,
          17.58,
          0.79,
          2.4,
          1.5,
          15.1,
          0.57,
          10,
          17.09,
          0.5,
          13.91,
          9.9,
          9.5,
          4.58,
          16.52,
          14.1,
          5.46,
          8.82,
          18.59,
          7.29,
          17.41,
          2.72,
          2.2,
          2.5,
          0.82,
          1.79,
          1.1,
          2.48,
          36.24,
          6.57,
          2,
          2.2,
          11.61,
          9.31,
          17.6,
          1.97,
          3.8,
          2,
          0.83,
          11.8,
          8.29,
          5.21,
          15.85,
          16.8,
          1.55,
          8.38,
          16.87,
          12.13,
          11.29,
          4.24,
          1.23,
          12.48,
          17.7,
          17.66,
          2.02,
          22.27,
          1.36,
          2.79,
          17.65,
          4.1,
          16.33,
          12.8,
          16.4,
          2.31,
          3.04,
          7.04,
          2.68,
          4.35,
          10.37,
          1.76,
          17,
          1.3,
          0.9,
          18.3,
          3.57,
          12.01,
          21,
          15.62,
          18.45,
          13.98,
          20.06,
          14.8,
          1.26,
          6.06,
          12.09,
          12.3,
          10.2,
          14.7,
          18.63,
          17.33,
          11.66,
          17.4,
          10.78,
          2.6,
          5.46,
          4.61,
          1.86,
          7.25,
          14.74,
          1.6,
          1.39,
          1.98,
          8.43,
          12.8,
          8.17,
          17.9,
          1.36,
          18.4,
          12.75,
          7.04,
          8.52
         ],
         "xaxis": "x2",
         "y": [
          50.5,
          32.25,
          18.32,
          11.25,
          44.75,
          10,
          15,
          46.5,
          6,
          8.5,
          15.68,
          32,
          28.75,
          11.25,
          11.25,
          46.75,
          46.5,
          27.75,
          9,
          40.75,
          8.25,
          5.75,
          11.5,
          9,
          43.5,
          20.25,
          44.75,
          47,
          30.5,
          43,
          10,
          52.76,
          17.48,
          31.5,
          31.25,
          14.92,
          5.75,
          9,
          24.75,
          17,
          15.03,
          26,
          7.75,
          33.25,
          42.25,
          49.75,
          42.25,
          15,
          43.75,
          41.75,
          32.48,
          9,
          7.25,
          43.75,
          6,
          36,
          44.25,
          8.5,
          29,
          26.75,
          29.5,
          9.66,
          20.5,
          15.82,
          9,
          15,
          7.75,
          6.75,
          44.5,
          32.5,
          11,
          8,
          33.5,
          16.5,
          28.5,
          29.25,
          38.75,
          5.75,
          30,
          48.25,
          4.75,
          19,
          43,
          45.25,
          6.75,
          8.5,
          44.5,
          11.75,
          45.25,
          44.75,
          43.25,
          6,
          11.25,
          8.25,
          38.5,
          5,
          27.75,
          45.5,
          5,
          36.25,
          30,
          26.25,
          15.75,
          42.75,
          35.25,
          17.25,
          33.25,
          46.25,
          72.05,
          43.5,
          10.25,
          8.75,
          9.25,
          5.5,
          9,
          7.25,
          10,
          88.53,
          19,
          12.25,
          9.75,
          29.5,
          26,
          43.5,
          8.5,
          14.5,
          9,
          6.25,
          30.5,
          33.25,
          15.5,
          39.75,
          41.5,
          11,
          23.25,
          42.25,
          31.5,
          29.75,
          16.22,
          9,
          33.5,
          44,
          44,
          9.75,
          56.25,
          7.75,
          11.25,
          43.75,
          14,
          40.5,
          32.25,
          46.5,
          9,
          11.78,
          21.37,
          10.49,
          13.75,
          29,
          8.75,
          42,
          7.5,
          6.25,
          45.5,
          13.11,
          31.5,
          51.25,
          39.5,
          46.75,
          36,
          48.5,
          39.5,
          7.5,
          17.5,
          31.75,
          32,
          27,
          36.75,
          46.5,
          44,
          30.25,
          44,
          30,
          10.25,
          18,
          15.25,
          8.75,
          22.05,
          38.5,
          8.75,
          9,
          8,
          24,
          34.25,
          23,
          45,
          7.75,
          45,
          33.5,
          72.05,
          23.5
         ],
         "yaxis": "y2"
        },
        {
         "hovertemplate": "TRIP_MILES=%{x}<br>FARE_PREDICTED=%{y}<extra></extra>",
         "legendgroup": "",
         "line": {
          "color": "#ff0000",
          "dash": "solid",
          "width": 3
         },
         "marker": {
          "symbol": "circle"
         },
         "mode": "lines",
         "name": "",
         "orientation": "v",
         "showlegend": false,
         "type": "scatter",
         "x": [
          21,
          12,
          3.71,
          2.8,
          17.81,
          2.67,
          4.85,
          18.89,
          1.01,
          2,
          4.49,
          11.8,
          11,
          3.27,
          2.92,
          18.1,
          18.54,
          9.68,
          2.18,
          14,
          1.56,
          1,
          3.2,
          0.95,
          17.61,
          6.84,
          17.51,
          19.3,
          11.37,
          17.55,
          2.54,
          16.21,
          4.8,
          11.31,
          11.22,
          4.13,
          0.68,
          1.24,
          8.84,
          5.6,
          3.71,
          10.2,
          1.2,
          12.13,
          17.15,
          8.9,
          16.41,
          5.2,
          17.13,
          16.8,
          7.14,
          1.7,
          1.49,
          17.56,
          0.92,
          14.56,
          18.4,
          1.97,
          9.61,
          9.24,
          9.55,
          1.96,
          6.7,
          5.07,
          1.85,
          4.2,
          1.4,
          1.2,
          18.2,
          12.08,
          2.44,
          1.79,
          12.93,
          5.59,
          6.21,
          10.19,
          15.36,
          0.79,
          11.26,
          19.76,
          0.57,
          5.83,
          17.21,
          18,
          1.1,
          2.2,
          17.82,
          3.21,
          18.57,
          18,
          17.58,
          0.79,
          2.4,
          1.5,
          15.1,
          0.57,
          10,
          17.09,
          0.5,
          13.91,
          9.9,
          9.5,
          4.58,
          16.52,
          14.1,
          5.46,
          8.82,
          18.59,
          7.29,
          17.41,
          2.72,
          2.2,
          2.5,
          0.82,
          1.79,
          1.1,
          2.48,
          36.24,
          6.57,
          2,
          2.2,
          11.61,
          9.31,
          17.6,
          1.97,
          3.8,
          2,
          0.83,
          11.8,
          8.29,
          5.21,
          15.85,
          16.8,
          1.55,
          8.38,
          16.87,
          12.13,
          11.29,
          4.24,
          1.23,
          12.48,
          17.7,
          17.66,
          2.02,
          22.27,
          1.36,
          2.79,
          17.65,
          4.1,
          16.33,
          12.8,
          16.4,
          2.31,
          3.04,
          7.04,
          2.68,
          4.35,
          10.37,
          1.76,
          17,
          1.3,
          0.9,
          18.3,
          3.57,
          12.01,
          21,
          15.62,
          18.45,
          13.98,
          20.06,
          14.8,
          1.26,
          6.06,
          12.09,
          12.3,
          10.2,
          14.7,
          18.63,
          17.33,
          11.66,
          17.4,
          10.78,
          2.6,
          5.46,
          4.61,
          1.86,
          7.25,
          14.74,
          1.6,
          1.39,
          1.98,
          8.43,
          12.8,
          8.17,
          17.9,
          1.36,
          18.4,
          12.75,
          7.04,
          8.52
         ],
         "xaxis": "x2",
         "y": [
          52.76215076446533,
          32.28458786010742,
          13.422477140426636,
          11.351968002319335,
          45.50399235725403,
          11.056180982589723,
          16.016301774978636,
          47.961299905776976,
          7.2792082691192626,
          9.531740188598633,
          15.197199258804321,
          31.82953090667725,
          30.009303092956543,
          12.421351842880249,
          11.625002174377443,
          46.16382493972779,
          47.16495023727417,
          27.005927200317384,
          9.941291446685792,
          36.83515739440918,
          8.530614891052245,
          7.256455421447754,
          12.262081909179688,
          7.14269118309021,
          45.048935403823855,
          20.54411846160889,
          44.82140692710877,
          48.89416666030884,
          30.851158456802366,
          44.9124183177948,
          10.760393962860107,
          41.86353672981262,
          15.902537536621093,
          30.714641370773318,
          30.509865741729737,
          14.378096742630005,
          6.528364295959473,
          7.802523765563965,
          25.094687995910643,
          17.722765350341795,
          13.422477140426636,
          28.189075279235837,
          7.7115123748779295,
          32.58037487983704,
          44.00230441093444,
          25.2312050819397,
          42.318593683242796,
          16.812651443481446,
          43.956798715591425,
          43.20595474243164,
          21.22670389175415,
          8.84915475845337,
          8.371344957351685,
          44.93517116546631,
          7.074432640075684,
          38.10931686401367,
          46.84641036987304,
          9.463481645584107,
          26.84665726661682,
          26.004801902770996,
          26.71014018058777,
          9.440728797912598,
          20.225578594207764,
          16.516864423751834,
          9.190447473526001,
          14.537366676330567,
          8.166569328308105,
          7.7115123748779295,
          46.39135341644287,
          32.46661064147949,
          10.53286548614502,
          9.053930387496948,
          34.400602693557744,
          17.70001250267029,
          19.110689058303834,
          28.16632243156433,
          39.92954467773438,
          6.77864562034607,
          30.60087713241577,
          49.940797653198246,
          6.278082971572876,
          18.246080846786498,
          44.1388214969635,
          45.936296463012695,
          7.483983898162842,
          9.98679714202881,
          45.52674520492554,
          12.284834756851197,
          47.2332087802887,
          45.936296463012695,
          44.980676860809325,
          6.77864562034607,
          10.441854095458984,
          8.394097805023193,
          39.337970638275145,
          6.278082971572876,
          27.734018325805664,
          43.8657873249054,
          6.1188130378723145,
          36.6303817653656,
          27.506489849090578,
          26.596375942230225,
          15.401974887847901,
          42.568875007629394,
          37.062685871124266,
          17.404225482940674,
          25.049182300567626,
          47.278714475631716,
          21.56799660682678,
          44.593878450393674,
          11.169945220947266,
          9.98679714202881,
          10.669382572174072,
          6.846904163360596,
          9.053930387496948,
          7.483983898162842,
          10.623876876831055,
          87.43749061584474,
          19.929791574478152,
          9.531740188598633,
          9.98679714202881,
          31.397226800918578,
          26.16407183647156,
          45.02618255615235,
          9.463481645584107,
          13.627252769470214,
          9.531740188598633,
          6.869657011032104,
          31.82953090667725,
          23.84328137397766,
          16.835404291152955,
          41.044434213638304,
          43.20595474243164,
          8.507862043380737,
          24.048057003021242,
          43.36522467613221,
          32.58037487983704,
          30.669135675430297,
          14.628378067016602,
          7.779770917892456,
          33.376724548339844,
          45.25371103286743,
          45.162699642181394,
          9.57724588394165,
          55.65176241874695,
          8.07555793762207,
          11.329215154647827,
          45.13994679450988,
          14.309838199615477,
          42.136570901870726,
          34.10481567382813,
          42.29584083557128,
          10.237078466415404,
          11.898036346435546,
          20.999175415039062,
          11.078933830261231,
          14.878659391403197,
          28.575873689651488,
          8.985671844482422,
          43.661011695861816,
          7.939040851593018,
          7.028926944732666,
          46.61888189315796,
          13.103937273025512,
          32.307340707778934,
          52.76215076446533,
          40.5211187171936,
          46.96017460823059,
          36.78965169906616,
          50.623383083343505,
          38.655385208129886,
          7.848029460906982,
          18.7693963432312,
          32.489363489151,
          32.96717329025269,
          28.189075279235837,
          38.42785673141479,
          47.369725866317744,
          44.411855669021605,
          31.510991039276124,
          44.57112560272216,
          29.50874044418335,
          10.89691104888916,
          17.404225482940674,
          15.470233430862427,
          9.21320032119751,
          21.476985216140747,
          38.518868122100834,
          8.621626281738282,
          8.143816480636596,
          9.486234493255616,
          24.161821241378785,
          34.10481567382813,
          23.570247201919557,
          45.7087679862976,
          8.07555793762207,
          46.84641036987304,
          33.99105143547058,
          20.999175415039062,
          24.366596870422363
         ],
         "yaxis": "y2"
        },
        {
         "hovertemplate": "x=%{x}<br>y=%{y}<extra></extra>",
         "legendgroup": "",
         "line": {
          "color": "#ff0000",
          "dash": "solid",
          "width": 3
         },
         "marker": {
          "symbol": "circle"
         },
         "mode": "lines",
         "name": "",
         "orientation": "v",
         "showlegend": false,
         "type": "scatter",
         "x": [
          0,
          1,
          2,
          3,
          4,
          5,
          6,
          7,
          8,
          9,
          10,
          11,
          12,
          13,
          14,
          15,
          16,
          17,
          18,
          19
         ],
         "xaxis": "x",
         "y": [
          40.835018157958984,
          33.59181213378906,
          26.379209518432617,
          19.227792739868164,
          12.265107154846191,
          6.09361457824707,
          3.8190059661865234,
          3.7743802070617676,
          3.7580878734588623,
          3.7509891986846924,
          3.747978925704956,
          3.7471094131469727,
          3.7463109493255615,
          3.746188163757324,
          3.746150493621826,
          3.7457833290100098,
          3.745758295059204,
          3.745915174484253,
          3.7458808422088623,
          3.7457690238952637
         ],
         "yaxis": "y"
        }
       ],
       "layout": {
        "annotations": [
         {
          "font": {
           "size": 16
          },
          "showarrow": false,
          "text": "Loss Curve",
          "x": 0.225,
          "xanchor": "center",
          "xref": "paper",
          "y": 1,
          "yanchor": "bottom",
          "yref": "paper"
         },
         {
          "font": {
           "size": 16
          },
          "showarrow": false,
          "text": "Model Plot",
          "x": 0.775,
          "xanchor": "center",
          "xref": "paper",
          "y": 1,
          "yanchor": "bottom",
          "yref": "paper"
         }
        ],
        "template": {
         "data": {
          "bar": [
           {
            "error_x": {
             "color": "#2a3f5f"
            },
            "error_y": {
             "color": "#2a3f5f"
            },
            "marker": {
             "line": {
              "color": "#E5ECF6",
              "width": 0.5
             },
             "pattern": {
              "fillmode": "overlay",
              "size": 10,
              "solidity": 0.2
             }
            },
            "type": "bar"
           }
          ],
          "barpolar": [
           {
            "marker": {
             "line": {
              "color": "#E5ECF6",
              "width": 0.5
             },
             "pattern": {
              "fillmode": "overlay",
              "size": 10,
              "solidity": 0.2
             }
            },
            "type": "barpolar"
           }
          ],
          "carpet": [
           {
            "aaxis": {
             "endlinecolor": "#2a3f5f",
             "gridcolor": "white",
             "linecolor": "white",
             "minorgridcolor": "white",
             "startlinecolor": "#2a3f5f"
            },
            "baxis": {
             "endlinecolor": "#2a3f5f",
             "gridcolor": "white",
             "linecolor": "white",
             "minorgridcolor": "white",
             "startlinecolor": "#2a3f5f"
            },
            "type": "carpet"
           }
          ],
          "choropleth": [
           {
            "colorbar": {
             "outlinewidth": 0,
             "ticks": ""
            },
            "type": "choropleth"
           }
          ],
          "contour": [
           {
            "colorbar": {
             "outlinewidth": 0,
             "ticks": ""
            },
            "colorscale": [
             [
              0,
              "#0d0887"
             ],
             [
              0.1111111111111111,
              "#46039f"
             ],
             [
              0.2222222222222222,
              "#7201a8"
             ],
             [
              0.3333333333333333,
              "#9c179e"
             ],
             [
              0.4444444444444444,
              "#bd3786"
             ],
             [
              0.5555555555555556,
              "#d8576b"
             ],
             [
              0.6666666666666666,
              "#ed7953"
             ],
             [
              0.7777777777777778,
              "#fb9f3a"
             ],
             [
              0.8888888888888888,
              "#fdca26"
             ],
             [
              1,
              "#f0f921"
             ]
            ],
            "type": "contour"
           }
          ],
          "contourcarpet": [
           {
            "colorbar": {
             "outlinewidth": 0,
             "ticks": ""
            },
            "type": "contourcarpet"
           }
          ],
          "heatmap": [
           {
            "colorbar": {
             "outlinewidth": 0,
             "ticks": ""
            },
            "colorscale": [
             [
              0,
              "#0d0887"
             ],
             [
              0.1111111111111111,
              "#46039f"
             ],
             [
              0.2222222222222222,
              "#7201a8"
             ],
             [
              0.3333333333333333,
              "#9c179e"
             ],
             [
              0.4444444444444444,
              "#bd3786"
             ],
             [
              0.5555555555555556,
              "#d8576b"
             ],
             [
              0.6666666666666666,
              "#ed7953"
             ],
             [
              0.7777777777777778,
              "#fb9f3a"
             ],
             [
              0.8888888888888888,
              "#fdca26"
             ],
             [
              1,
              "#f0f921"
             ]
            ],
            "type": "heatmap"
           }
          ],
          "heatmapgl": [
           {
            "colorbar": {
             "outlinewidth": 0,
             "ticks": ""
            },
            "colorscale": [
             [
              0,
              "#0d0887"
             ],
             [
              0.1111111111111111,
              "#46039f"
             ],
             [
              0.2222222222222222,
              "#7201a8"
             ],
             [
              0.3333333333333333,
              "#9c179e"
             ],
             [
              0.4444444444444444,
              "#bd3786"
             ],
             [
              0.5555555555555556,
              "#d8576b"
             ],
             [
              0.6666666666666666,
              "#ed7953"
             ],
             [
              0.7777777777777778,
              "#fb9f3a"
             ],
             [
              0.8888888888888888,
              "#fdca26"
             ],
             [
              1,
              "#f0f921"
             ]
            ],
            "type": "heatmapgl"
           }
          ],
          "histogram": [
           {
            "marker": {
             "pattern": {
              "fillmode": "overlay",
              "size": 10,
              "solidity": 0.2
             }
            },
            "type": "histogram"
           }
          ],
          "histogram2d": [
           {
            "colorbar": {
             "outlinewidth": 0,
             "ticks": ""
            },
            "colorscale": [
             [
              0,
              "#0d0887"
             ],
             [
              0.1111111111111111,
              "#46039f"
             ],
             [
              0.2222222222222222,
              "#7201a8"
             ],
             [
              0.3333333333333333,
              "#9c179e"
             ],
             [
              0.4444444444444444,
              "#bd3786"
             ],
             [
              0.5555555555555556,
              "#d8576b"
             ],
             [
              0.6666666666666666,
              "#ed7953"
             ],
             [
              0.7777777777777778,
              "#fb9f3a"
             ],
             [
              0.8888888888888888,
              "#fdca26"
             ],
             [
              1,
              "#f0f921"
             ]
            ],
            "type": "histogram2d"
           }
          ],
          "histogram2dcontour": [
           {
            "colorbar": {
             "outlinewidth": 0,
             "ticks": ""
            },
            "colorscale": [
             [
              0,
              "#0d0887"
             ],
             [
              0.1111111111111111,
              "#46039f"
             ],
             [
              0.2222222222222222,
              "#7201a8"
             ],
             [
              0.3333333333333333,
              "#9c179e"
             ],
             [
              0.4444444444444444,
              "#bd3786"
             ],
             [
              0.5555555555555556,
              "#d8576b"
             ],
             [
              0.6666666666666666,
              "#ed7953"
             ],
             [
              0.7777777777777778,
              "#fb9f3a"
             ],
             [
              0.8888888888888888,
              "#fdca26"
             ],
             [
              1,
              "#f0f921"
             ]
            ],
            "type": "histogram2dcontour"
           }
          ],
          "mesh3d": [
           {
            "colorbar": {
             "outlinewidth": 0,
             "ticks": ""
            },
            "type": "mesh3d"
           }
          ],
          "parcoords": [
           {
            "line": {
             "colorbar": {
              "outlinewidth": 0,
              "ticks": ""
             }
            },
            "type": "parcoords"
           }
          ],
          "pie": [
           {
            "automargin": true,
            "type": "pie"
           }
          ],
          "scatter": [
           {
            "fillpattern": {
             "fillmode": "overlay",
             "size": 10,
             "solidity": 0.2
            },
            "type": "scatter"
           }
          ],
          "scatter3d": [
           {
            "line": {
             "colorbar": {
              "outlinewidth": 0,
              "ticks": ""
             }
            },
            "marker": {
             "colorbar": {
              "outlinewidth": 0,
              "ticks": ""
             }
            },
            "type": "scatter3d"
           }
          ],
          "scattercarpet": [
           {
            "marker": {
             "colorbar": {
              "outlinewidth": 0,
              "ticks": ""
             }
            },
            "type": "scattercarpet"
           }
          ],
          "scattergeo": [
           {
            "marker": {
             "colorbar": {
              "outlinewidth": 0,
              "ticks": ""
             }
            },
            "type": "scattergeo"
           }
          ],
          "scattergl": [
           {
            "marker": {
             "colorbar": {
              "outlinewidth": 0,
              "ticks": ""
             }
            },
            "type": "scattergl"
           }
          ],
          "scattermapbox": [
           {
            "marker": {
             "colorbar": {
              "outlinewidth": 0,
              "ticks": ""
             }
            },
            "type": "scattermapbox"
           }
          ],
          "scatterpolar": [
           {
            "marker": {
             "colorbar": {
              "outlinewidth": 0,
              "ticks": ""
             }
            },
            "type": "scatterpolar"
           }
          ],
          "scatterpolargl": [
           {
            "marker": {
             "colorbar": {
              "outlinewidth": 0,
              "ticks": ""
             }
            },
            "type": "scatterpolargl"
           }
          ],
          "scatterternary": [
           {
            "marker": {
             "colorbar": {
              "outlinewidth": 0,
              "ticks": ""
             }
            },
            "type": "scatterternary"
           }
          ],
          "surface": [
           {
            "colorbar": {
             "outlinewidth": 0,
             "ticks": ""
            },
            "colorscale": [
             [
              0,
              "#0d0887"
             ],
             [
              0.1111111111111111,
              "#46039f"
             ],
             [
              0.2222222222222222,
              "#7201a8"
             ],
             [
              0.3333333333333333,
              "#9c179e"
             ],
             [
              0.4444444444444444,
              "#bd3786"
             ],
             [
              0.5555555555555556,
              "#d8576b"
             ],
             [
              0.6666666666666666,
              "#ed7953"
             ],
             [
              0.7777777777777778,
              "#fb9f3a"
             ],
             [
              0.8888888888888888,
              "#fdca26"
             ],
             [
              1,
              "#f0f921"
             ]
            ],
            "type": "surface"
           }
          ],
          "table": [
           {
            "cells": {
             "fill": {
              "color": "#EBF0F8"
             },
             "line": {
              "color": "white"
             }
            },
            "header": {
             "fill": {
              "color": "#C8D4E3"
             },
             "line": {
              "color": "white"
             }
            },
            "type": "table"
           }
          ]
         },
         "layout": {
          "annotationdefaults": {
           "arrowcolor": "#2a3f5f",
           "arrowhead": 0,
           "arrowwidth": 1
          },
          "autotypenumbers": "strict",
          "coloraxis": {
           "colorbar": {
            "outlinewidth": 0,
            "ticks": ""
           }
          },
          "colorscale": {
           "diverging": [
            [
             0,
             "#8e0152"
            ],
            [
             0.1,
             "#c51b7d"
            ],
            [
             0.2,
             "#de77ae"
            ],
            [
             0.3,
             "#f1b6da"
            ],
            [
             0.4,
             "#fde0ef"
            ],
            [
             0.5,
             "#f7f7f7"
            ],
            [
             0.6,
             "#e6f5d0"
            ],
            [
             0.7,
             "#b8e186"
            ],
            [
             0.8,
             "#7fbc41"
            ],
            [
             0.9,
             "#4d9221"
            ],
            [
             1,
             "#276419"
            ]
           ],
           "sequential": [
            [
             0,
             "#0d0887"
            ],
            [
             0.1111111111111111,
             "#46039f"
            ],
            [
             0.2222222222222222,
             "#7201a8"
            ],
            [
             0.3333333333333333,
             "#9c179e"
            ],
            [
             0.4444444444444444,
             "#bd3786"
            ],
            [
             0.5555555555555556,
             "#d8576b"
            ],
            [
             0.6666666666666666,
             "#ed7953"
            ],
            [
             0.7777777777777778,
             "#fb9f3a"
            ],
            [
             0.8888888888888888,
             "#fdca26"
            ],
            [
             1,
             "#f0f921"
            ]
           ],
           "sequentialminus": [
            [
             0,
             "#0d0887"
            ],
            [
             0.1111111111111111,
             "#46039f"
            ],
            [
             0.2222222222222222,
             "#7201a8"
            ],
            [
             0.3333333333333333,
             "#9c179e"
            ],
            [
             0.4444444444444444,
             "#bd3786"
            ],
            [
             0.5555555555555556,
             "#d8576b"
            ],
            [
             0.6666666666666666,
             "#ed7953"
            ],
            [
             0.7777777777777778,
             "#fb9f3a"
            ],
            [
             0.8888888888888888,
             "#fdca26"
            ],
            [
             1,
             "#f0f921"
            ]
           ]
          },
          "colorway": [
           "#636efa",
           "#EF553B",
           "#00cc96",
           "#ab63fa",
           "#FFA15A",
           "#19d3f3",
           "#FF6692",
           "#B6E880",
           "#FF97FF",
           "#FECB52"
          ],
          "font": {
           "color": "#2a3f5f"
          },
          "geo": {
           "bgcolor": "white",
           "lakecolor": "white",
           "landcolor": "#E5ECF6",
           "showlakes": true,
           "showland": true,
           "subunitcolor": "white"
          },
          "hoverlabel": {
           "align": "left"
          },
          "hovermode": "closest",
          "mapbox": {
           "style": "light"
          },
          "paper_bgcolor": "white",
          "plot_bgcolor": "#E5ECF6",
          "polar": {
           "angularaxis": {
            "gridcolor": "white",
            "linecolor": "white",
            "ticks": ""
           },
           "bgcolor": "#E5ECF6",
           "radialaxis": {
            "gridcolor": "white",
            "linecolor": "white",
            "ticks": ""
           }
          },
          "scene": {
           "xaxis": {
            "backgroundcolor": "#E5ECF6",
            "gridcolor": "white",
            "gridwidth": 2,
            "linecolor": "white",
            "showbackground": true,
            "ticks": "",
            "zerolinecolor": "white"
           },
           "yaxis": {
            "backgroundcolor": "#E5ECF6",
            "gridcolor": "white",
            "gridwidth": 2,
            "linecolor": "white",
            "showbackground": true,
            "ticks": "",
            "zerolinecolor": "white"
           },
           "zaxis": {
            "backgroundcolor": "#E5ECF6",
            "gridcolor": "white",
            "gridwidth": 2,
            "linecolor": "white",
            "showbackground": true,
            "ticks": "",
            "zerolinecolor": "white"
           }
          },
          "shapedefaults": {
           "line": {
            "color": "#2a3f5f"
           }
          },
          "ternary": {
           "aaxis": {
            "gridcolor": "white",
            "linecolor": "white",
            "ticks": ""
           },
           "baxis": {
            "gridcolor": "white",
            "linecolor": "white",
            "ticks": ""
           },
           "bgcolor": "#E5ECF6",
           "caxis": {
            "gridcolor": "white",
            "linecolor": "white",
            "ticks": ""
           }
          },
          "title": {
           "x": 0.05
          },
          "xaxis": {
           "automargin": true,
           "gridcolor": "white",
           "linecolor": "white",
           "ticks": "",
           "title": {
            "standoff": 15
           },
           "zerolinecolor": "white",
           "zerolinewidth": 2
          },
          "yaxis": {
           "automargin": true,
           "gridcolor": "white",
           "linecolor": "white",
           "ticks": "",
           "title": {
            "standoff": 15
           },
           "zerolinecolor": "white",
           "zerolinewidth": 2
          }
         }
        },
        "xaxis": {
         "anchor": "y",
         "domain": [
          0,
          0.45
         ],
         "title": {
          "text": "Epoch"
         }
        },
        "xaxis2": {
         "anchor": "y2",
         "domain": [
          0.55,
          1
         ],
         "title": {
          "text": "TRIP_MILES"
         }
        },
        "yaxis": {
         "anchor": "x",
         "domain": [
          0,
          1
         ],
         "range": [
          2.9966066360473635,
          40.835018157958984
         ],
         "title": {
          "text": "Root Mean Squared Error"
         }
        },
        "yaxis2": {
         "anchor": "x2",
         "domain": [
          0,
          1
         ],
         "title": {
          "text": "FARE"
         }
        }
       }
      },
      "image/png": "[encoded data removed]",
      "text/html": [
       "<div>                            <div id=\"9b2919ed-2034-4e0b-b440-432ee73d5de6\" class=\"plotly-graph-div\" style=\"height:525px; width:100%;\"></div>            <script type=\"text/javascript\">                require([\"plotly\"], function(Plotly) {                    window.PLOTLYENV=window.PLOTLYENV || {};                                    if (document.getElementById(\"9b2919ed-2034-4e0b-b440-432ee73d5de6\")) {                    Plotly.newPlot(                        \"9b2919ed-2034-4e0b-b440-432ee73d5de6\",                        [{\"hovertemplate\":\"TRIP_MILES=%{x}\\u003cbr\\u003eFARE=%{y}\\u003cextra\\u003e\\u003c\\u002fextra\\u003e\",\"legendgroup\":\"\",\"marker\":{\"color\":\"#636efa\",\"symbol\":\"circle\"},\"mode\":\"markers\",\"name\":\"\",\"orientation\":\"v\",\"showlegend\":false,\"x\":[21.0,12.0,3.71,2.8,17.81,2.67,4.85,18.89,1.01,2.0,4.49,11.8,11.0,3.27,2.92,18.1,18.54,9.68,2.18,14.0,1.56,1.0,3.2,0.95,17.61,6.84,17.51,19.3,11.37,17.55,2.54,16.21,4.8,11.31,11.22,4.13,0.68,1.24,8.84,5.6,3.71,10.2,1.2,12.13,17.15,8.9,16.41,5.2,17.13,16.8,7.14,1.7,1.49,17.56,0.92,14.56,18.4,1.97,9.61,9.24,9.55,1.96,6.7,5.07,1.85,4.2,1.4,1.2,18.2,12.08,2.44,1.79,12.93,5.59,6.21,10.19,15.36,0.79,11.26,19.76,0.57,5.83,17.21,18.0,1.1,2.2,17.82,3.21,18.57,18.0,17.58,0.79,2.4,1.5,15.1,0.57,10.0,17.09,0.5,13.91,9.9,9.5,4.58,16.52,14.1,5.46,8.82,18.59,7.29,17.41,2.72,2.2,2.5,0.82,1.79,1.1,2.48,36.24,6.57,2.0,2.2,11.61,9.31,17.6,1.97,3.8,2.0,0.83,11.8,8.29,5.21,15.85,16.8,1.55,8.38,16.87,12.13,11.29,4.24,1.23,12.48,17.7,17.66,2.02,22.27,1.36,2.79,17.65,4.1,16.33,12.8,16.4,2.31,3.04,7.04,2.68,4.35,10.37,1.76,17.0,1.3,0.9,18.3,3.57,12.01,21.0,15.62,18.45,13.98,20.06,14.8,1.26,6.06,12.09,12.3,10.2,14.7,18.63,17.33,11.66,17.4,10.78,2.6,5.46,4.61,1.86,7.25,14.74,1.6,1.39,1.98,8.43,12.8,8.17,17.9,1.36,18.4,12.75,7.04,8.52],\"xaxis\":\"x2\",\"y\":[50.5,32.25,18.32,11.25,44.75,10.0,15.0,46.5,6.0,8.5,15.68,32.0,28.75,11.25,11.25,46.75,46.5,27.75,9.0,40.75,8.25,5.75,11.5,9.0,43.5,20.25,44.75,47.0,30.5,43.0,10.0,52.76,17.48,31.5,31.25,14.92,5.75,9.0,24.75,17.0,15.03,26.0,7.75,33.25,42.25,49.75,42.25,15.0,43.75,41.75,32.48,9.0,7.25,43.75,6.0,36.0,44.25,8.5,29.0,26.75,29.5,9.66,20.5,15.82,9.0,15.0,7.75,6.75,44.5,32.5,11.0,8.0,33.5,16.5,28.5,29.25,38.75,5.75,30.0,48.25,4.75,19.0,43.0,45.25,6.75,8.5,44.5,11.75,45.25,44.75,43.25,6.0,11.25,8.25,38.5,5.0,27.75,45.5,5.0,36.25,30.0,26.25,15.75,42.75,35.25,17.25,33.25,46.25,72.05,43.5,10.25,8.75,9.25,5.5,9.0,7.25,10.0,88.53,19.0,12.25,9.75,29.5,26.0,43.5,8.5,14.5,9.0,6.25,30.5,33.25,15.5,39.75,41.5,11.0,23.25,42.25,31.5,29.75,16.22,9.0,33.5,44.0,44.0,9.75,56.25,7.75,11.25,43.75,14.0,40.5,32.25,46.5,9.0,11.78,21.37,10.49,13.75,29.0,8.75,42.0,7.5,6.25,45.5,13.11,31.5,51.25,39.5,46.75,36.0,48.5,39.5,7.5,17.5,31.75,32.0,27.0,36.75,46.5,44.0,30.25,44.0,30.0,10.25,18.0,15.25,8.75,22.05,38.5,8.75,9.0,8.0,24.0,34.25,23.0,45.0,7.75,45.0,33.5,72.05,23.5],\"yaxis\":\"y2\",\"type\":\"scatter\"},{\"hovertemplate\":\"TRIP_MILES=%{x}\\u003cbr\\u003eFARE_PREDICTED=%{y}\\u003cextra\\u003e\\u003c\\u002fextra\\u003e\",\"legendgroup\":\"\",\"line\":{\"color\":\"#ff0000\",\"dash\":\"solid\",\"width\":3},\"marker\":{\"symbol\":\"circle\"},\"mode\":\"lines\",\"name\":\"\",\"orientation\":\"v\",\"showlegend\":false,\"x\":[21.0,12.0,3.71,2.8,17.81,2.67,4.85,18.89,1.01,2.0,4.49,11.8,11.0,3.27,2.92,18.1,18.54,9.68,2.18,14.0,1.56,1.0,3.2,0.95,17.61,6.84,17.51,19.3,11.37,17.55,2.54,16.21,4.8,11.31,11.22,4.13,0.68,1.24,8.84,5.6,3.71,10.2,1.2,12.13,17.15,8.9,16.41,5.2,17.13,16.8,7.14,1.7,1.49,17.56,0.92,14.56,18.4,1.97,9.61,9.24,9.55,1.96,6.7,5.07,1.85,4.2,1.4,1.2,18.2,12.08,2.44,1.79,12.93,5.59,6.21,10.19,15.36,0.79,11.26,19.76,0.57,5.83,17.21,18.0,1.1,2.2,17.82,3.21,18.57,18.0,17.58,0.79,2.4,1.5,15.1,0.57,10.0,17.09,0.5,13.91,9.9,9.5,4.58,16.52,14.1,5.46,8.82,18.59,7.29,17.41,2.72,2.2,2.5,0.82,1.79,1.1,2.48,36.24,6.57,2.0,2.2,11.61,9.31,17.6,1.97,3.8,2.0,0.83,11.8,8.29,5.21,15.85,16.8,1.55,8.38,16.87,12.13,11.29,4.24,1.23,12.48,17.7,17.66,2.02,22.27,1.36,2.79,17.65,4.1,16.33,12.8,16.4,2.31,3.04,7.04,2.68,4.35,10.37,1.76,17.0,1.3,0.9,18.3,3.57,12.01,21.0,15.62,18.45,13.98,20.06,14.8,1.26,6.06,12.09,12.3,10.2,14.7,18.63,17.33,11.66,17.4,10.78,2.6,5.46,4.61,1.86,7.25,14.74,1.6,1.39,1.98,8.43,12.8,8.17,17.9,1.36,18.4,12.75,7.04,8.52],\"xaxis\":\"x2\",\"y\":[52.76215076446533,32.28458786010742,13.422477140426636,11.351968002319335,45.50399235725403,11.056180982589723,16.016301774978636,47.961299905776976,7.2792082691192626,9.531740188598633,15.197199258804321,31.82953090667725,30.009303092956543,12.421351842880249,11.625002174377443,46.16382493972779,47.16495023727417,27.005927200317384,9.941291446685792,36.83515739440918,8.530614891052245,7.256455421447754,12.262081909179688,7.14269118309021,45.048935403823855,20.54411846160889,44.82140692710877,48.89416666030884,30.851158456802366,44.9124183177948,10.760393962860107,41.86353672981262,15.902537536621093,30.714641370773318,30.509865741729737,14.378096742630005,6.528364295959473,7.802523765563965,25.094687995910643,17.722765350341795,13.422477140426636,28.189075279235837,7.7115123748779295,32.58037487983704,44.00230441093444,25.2312050819397,42.318593683242796,16.812651443481446,43.956798715591425,43.20595474243164,21.22670389175415,8.84915475845337,8.371344957351685,44.93517116546631,7.074432640075684,38.10931686401367,46.84641036987304,9.463481645584107,26.84665726661682,26.004801902770996,26.71014018058777,9.440728797912598,20.225578594207764,16.516864423751834,9.190447473526001,14.537366676330567,8.166569328308105,7.7115123748779295,46.39135341644287,32.46661064147949,10.53286548614502,9.053930387496948,34.400602693557744,17.70001250267029,19.110689058303834,28.16632243156433,39.92954467773438,6.77864562034607,30.60087713241577,49.940797653198246,6.278082971572876,18.246080846786498,44.1388214969635,45.936296463012695,7.483983898162842,9.98679714202881,45.52674520492554,12.284834756851197,47.2332087802887,45.936296463012695,44.980676860809325,6.77864562034607,10.441854095458984,8.394097805023193,39.337970638275145,6.278082971572876,27.734018325805664,43.8657873249054,6.1188130378723145,36.6303817653656,27.506489849090578,26.596375942230225,15.401974887847901,42.568875007629394,37.062685871124266,17.404225482940674,25.049182300567626,47.278714475631716,21.56799660682678,44.593878450393674,11.169945220947266,9.98679714202881,10.669382572174072,6.846904163360596,9.053930387496948,7.483983898162842,10.623876876831055,87.43749061584474,19.929791574478152,9.531740188598633,9.98679714202881,31.397226800918578,26.16407183647156,45.02618255615235,9.463481645584107,13.627252769470214,9.531740188598633,6.869657011032104,31.82953090667725,23.84328137397766,16.835404291152955,41.044434213638304,43.20595474243164,8.507862043380737,24.048057003021242,43.36522467613221,32.58037487983704,30.669135675430297,14.628378067016602,7.779770917892456,33.376724548339844,45.25371103286743,45.162699642181394,9.57724588394165,55.65176241874695,8.07555793762207,11.329215154647827,45.13994679450988,14.309838199615477,42.136570901870726,34.10481567382813,42.29584083557128,10.237078466415404,11.898036346435546,20.999175415039062,11.078933830261231,14.878659391403197,28.575873689651488,8.985671844482422,43.661011695861816,7.939040851593018,7.028926944732666,46.61888189315796,13.103937273025512,32.307340707778934,52.76215076446533,40.5211187171936,46.96017460823059,36.78965169906616,50.623383083343505,38.655385208129886,7.848029460906982,18.7693963432312,32.489363489151,32.96717329025269,28.189075279235837,38.42785673141479,47.369725866317744,44.411855669021605,31.510991039276124,44.57112560272216,29.50874044418335,10.89691104888916,17.404225482940674,15.470233430862427,9.21320032119751,21.476985216140747,38.518868122100834,8.621626281738282,8.143816480636596,9.486234493255616,24.161821241378785,34.10481567382813,23.570247201919557,45.7087679862976,8.07555793762207,46.84641036987304,33.99105143547058,20.999175415039062,24.366596870422363],\"yaxis\":\"y2\",\"type\":\"scatter\"},{\"hovertemplate\":\"x=%{x}\\u003cbr\\u003ey=%{y}\\u003cextra\\u003e\\u003c\\u002fextra\\u003e\",\"legendgroup\":\"\",\"line\":{\"color\":\"#ff0000\",\"dash\":\"solid\",\"width\":3},\"marker\":{\"symbol\":\"circle\"},\"mode\":\"lines\",\"name\":\"\",\"orientation\":\"v\",\"showlegend\":false,\"x\":[0,1,2,3,4,5,6,7,8,9,10,11,12,13,14,15,16,17,18,19],\"xaxis\":\"x\",\"y\":[40.835018157958984,33.59181213378906,26.379209518432617,19.227792739868164,12.265107154846191,6.09361457824707,3.8190059661865234,3.7743802070617676,3.7580878734588623,3.7509891986846924,3.747978925704956,3.7471094131469727,3.7463109493255615,3.746188163757324,3.746150493621826,3.7457833290100098,3.745758295059204,3.745915174484253,3.7458808422088623,3.7457690238952637],\"yaxis\":\"y\",\"type\":\"scatter\"}],                        {\"template\":{\"data\":{\"histogram2dcontour\":[{\"type\":\"histogram2dcontour\",\"colorbar\":{\"outlinewidth\":0,\"ticks\":\"\"},\"colorscale\":[[0.0,\"#0d0887\"],[0.1111111111111111,\"#46039f\"],[0.2222222222222222,\"#7201a8\"],[0.3333333333333333,\"#9c179e\"],[0.4444444444444444,\"#bd3786\"],[0.5555555555555556,\"#d8576b\"],[0.6666666666666666,\"#ed7953\"],[0.7777777777777778,\"#fb9f3a\"],[0.8888888888888888,\"#fdca26\"],[1.0,\"#f0f921\"]]}],\"choropleth\":[{\"type\":\"choropleth\",\"colorbar\":{\"outlinewidth\":0,\"ticks\":\"\"}}],\"histogram2d\":[{\"type\":\"histogram2d\",\"colorbar\":{\"outlinewidth\":0,\"ticks\":\"\"},\"colorscale\":[[0.0,\"#0d0887\"],[0.1111111111111111,\"#46039f\"],[0.2222222222222222,\"#7201a8\"],[0.3333333333333333,\"#9c179e\"],[0.4444444444444444,\"#bd3786\"],[0.5555555555555556,\"#d8576b\"],[0.6666666666666666,\"#ed7953\"],[0.7777777777777778,\"#fb9f3a\"],[0.8888888888888888,\"#fdca26\"],[1.0,\"#f0f921\"]]}],\"heatmap\":[{\"type\":\"heatmap\",\"colorbar\":{\"outlinewidth\":0,\"ticks\":\"\"},\"colorscale\":[[0.0,\"#0d0887\"],[0.1111111111111111,\"#46039f\"],[0.2222222222222222,\"#7201a8\"],[0.3333333333333333,\"#9c179e\"],[0.4444444444444444,\"#bd3786\"],[0.5555555555555556,\"#d8576b\"],[0.6666666666666666,\"#ed7953\"],[0.7777777777777778,\"#fb9f3a\"],[0.8888888888888888,\"#fdca26\"],[1.0,\"#f0f921\"]]}],\"heatmapgl\":[{\"type\":\"heatmapgl\",\"colorbar\":{\"outlinewidth\":0,\"ticks\":\"\"},\"colorscale\":[[0.0,\"#0d0887\"],[0.1111111111111111,\"#46039f\"],[0.2222222222222222,\"#7201a8\"],[0.3333333333333333,\"#9c179e\"],[0.4444444444444444,\"#bd3786\"],[0.5555555555555556,\"#d8576b\"],[0.6666666666666666,\"#ed7953\"],[0.7777777777777778,\"#fb9f3a\"],[0.8888888888888888,\"#fdca26\"],[1.0,\"#f0f921\"]]}],\"contourcarpet\":[{\"type\":\"contourcarpet\",\"colorbar\":{\"outlinewidth\":0,\"ticks\":\"\"}}],\"contour\":[{\"type\":\"contour\",\"colorbar\":{\"outlinewidth\":0,\"ticks\":\"\"},\"colorscale\":[[0.0,\"#0d0887\"],[0.1111111111111111,\"#46039f\"],[0.2222222222222222,\"#7201a8\"],[0.3333333333333333,\"#9c179e\"],[0.4444444444444444,\"#bd3786\"],[0.5555555555555556,\"#d8576b\"],[0.6666666666666666,\"#ed7953\"],[0.7777777777777778,\"#fb9f3a\"],[0.8888888888888888,\"#fdca26\"],[1.0,\"#f0f921\"]]}],\"surface\":[{\"type\":\"surface\",\"colorbar\":{\"outlinewidth\":0,\"ticks\":\"\"},\"colorscale\":[[0.0,\"#0d0887\"],[0.1111111111111111,\"#46039f\"],[0.2222222222222222,\"#7201a8\"],[0.3333333333333333,\"#9c179e\"],[0.4444444444444444,\"#bd3786\"],[0.5555555555555556,\"#d8576b\"],[0.6666666666666666,\"#ed7953\"],[0.7777777777777778,\"#fb9f3a\"],[0.8888888888888888,\"#fdca26\"],[1.0,\"#f0f921\"]]}],\"mesh3d\":[{\"type\":\"mesh3d\",\"colorbar\":{\"outlinewidth\":0,\"ticks\":\"\"}}],\"scatter\":[{\"fillpattern\":{\"fillmode\":\"overlay\",\"size\":10,\"solidity\":0.2},\"type\":\"scatter\"}],\"parcoords\":[{\"type\":\"parcoords\",\"line\":{\"colorbar\":{\"outlinewidth\":0,\"ticks\":\"\"}}}],\"scatterpolargl\":[{\"type\":\"scatterpolargl\",\"marker\":{\"colorbar\":{\"outlinewidth\":0,\"ticks\":\"\"}}}],\"bar\":[{\"error_x\":{\"color\":\"#2a3f5f\"},\"error_y\":{\"color\":\"#2a3f5f\"},\"marker\":{\"line\":{\"color\":\"#E5ECF6\",\"width\":0.5},\"pattern\":{\"fillmode\":\"overlay\",\"size\":10,\"solidity\":0.2}},\"type\":\"bar\"}],\"scattergeo\":[{\"type\":\"scattergeo\",\"marker\":{\"colorbar\":{\"outlinewidth\":0,\"ticks\":\"\"}}}],\"scatterpolar\":[{\"type\":\"scatterpolar\",\"marker\":{\"colorbar\":{\"outlinewidth\":0,\"ticks\":\"\"}}}],\"histogram\":[{\"marker\":{\"pattern\":{\"fillmode\":\"overlay\",\"size\":10,\"solidity\":0.2}},\"type\":\"histogram\"}],\"scattergl\":[{\"type\":\"scattergl\",\"marker\":{\"colorbar\":{\"outlinewidth\":0,\"ticks\":\"\"}}}],\"scatter3d\":[{\"type\":\"scatter3d\",\"line\":{\"colorbar\":{\"outlinewidth\":0,\"ticks\":\"\"}},\"marker\":{\"colorbar\":{\"outlinewidth\":0,\"ticks\":\"\"}}}],\"scattermapbox\":[{\"type\":\"scattermapbox\",\"marker\":{\"colorbar\":{\"outlinewidth\":0,\"ticks\":\"\"}}}],\"scatterternary\":[{\"type\":\"scatterternary\",\"marker\":{\"colorbar\":{\"outlinewidth\":0,\"ticks\":\"\"}}}],\"scattercarpet\":[{\"type\":\"scattercarpet\",\"marker\":{\"colorbar\":{\"outlinewidth\":0,\"ticks\":\"\"}}}],\"carpet\":[{\"aaxis\":{\"endlinecolor\":\"#2a3f5f\",\"gridcolor\":\"white\",\"linecolor\":\"white\",\"minorgridcolor\":\"white\",\"startlinecolor\":\"#2a3f5f\"},\"baxis\":{\"endlinecolor\":\"#2a3f5f\",\"gridcolor\":\"white\",\"linecolor\":\"white\",\"minorgridcolor\":\"white\",\"startlinecolor\":\"#2a3f5f\"},\"type\":\"carpet\"}],\"table\":[{\"cells\":{\"fill\":{\"color\":\"#EBF0F8\"},\"line\":{\"color\":\"white\"}},\"header\":{\"fill\":{\"color\":\"#C8D4E3\"},\"line\":{\"color\":\"white\"}},\"type\":\"table\"}],\"barpolar\":[{\"marker\":{\"line\":{\"color\":\"#E5ECF6\",\"width\":0.5},\"pattern\":{\"fillmode\":\"overlay\",\"size\":10,\"solidity\":0.2}},\"type\":\"barpolar\"}],\"pie\":[{\"automargin\":true,\"type\":\"pie\"}]},\"layout\":{\"autotypenumbers\":\"strict\",\"colorway\":[\"#636efa\",\"#EF553B\",\"#00cc96\",\"#ab63fa\",\"#FFA15A\",\"#19d3f3\",\"#FF6692\",\"#B6E880\",\"#FF97FF\",\"#FECB52\"],\"font\":{\"color\":\"#2a3f5f\"},\"hovermode\":\"closest\",\"hoverlabel\":{\"align\":\"left\"},\"paper_bgcolor\":\"white\",\"plot_bgcolor\":\"#E5ECF6\",\"polar\":{\"bgcolor\":\"#E5ECF6\",\"angularaxis\":{\"gridcolor\":\"white\",\"linecolor\":\"white\",\"ticks\":\"\"},\"radialaxis\":{\"gridcolor\":\"white\",\"linecolor\":\"white\",\"ticks\":\"\"}},\"ternary\":{\"bgcolor\":\"#E5ECF6\",\"aaxis\":{\"gridcolor\":\"white\",\"linecolor\":\"white\",\"ticks\":\"\"},\"baxis\":{\"gridcolor\":\"white\",\"linecolor\":\"white\",\"ticks\":\"\"},\"caxis\":{\"gridcolor\":\"white\",\"linecolor\":\"white\",\"ticks\":\"\"}},\"coloraxis\":{\"colorbar\":{\"outlinewidth\":0,\"ticks\":\"\"}},\"colorscale\":{\"sequential\":[[0.0,\"#0d0887\"],[0.1111111111111111,\"#46039f\"],[0.2222222222222222,\"#7201a8\"],[0.3333333333333333,\"#9c179e\"],[0.4444444444444444,\"#bd3786\"],[0.5555555555555556,\"#d8576b\"],[0.6666666666666666,\"#ed7953\"],[0.7777777777777778,\"#fb9f3a\"],[0.8888888888888888,\"#fdca26\"],[1.0,\"#f0f921\"]],\"sequentialminus\":[[0.0,\"#0d0887\"],[0.1111111111111111,\"#46039f\"],[0.2222222222222222,\"#7201a8\"],[0.3333333333333333,\"#9c179e\"],[0.4444444444444444,\"#bd3786\"],[0.5555555555555556,\"#d8576b\"],[0.6666666666666666,\"#ed7953\"],[0.7777777777777778,\"#fb9f3a\"],[0.8888888888888888,\"#fdca26\"],[1.0,\"#f0f921\"]],\"diverging\":[[0,\"#8e0152\"],[0.1,\"#c51b7d\"],[0.2,\"#de77ae\"],[0.3,\"#f1b6da\"],[0.4,\"#fde0ef\"],[0.5,\"#f7f7f7\"],[0.6,\"#e6f5d0\"],[0.7,\"#b8e186\"],[0.8,\"#7fbc41\"],[0.9,\"#4d9221\"],[1,\"#276419\"]]},\"xaxis\":{\"gridcolor\":\"white\",\"linecolor\":\"white\",\"ticks\":\"\",\"title\":{\"standoff\":15},\"zerolinecolor\":\"white\",\"automargin\":true,\"zerolinewidth\":2},\"yaxis\":{\"gridcolor\":\"white\",\"linecolor\":\"white\",\"ticks\":\"\",\"title\":{\"standoff\":15},\"zerolinecolor\":\"white\",\"automargin\":true,\"zerolinewidth\":2},\"scene\":{\"xaxis\":{\"backgroundcolor\":\"#E5ECF6\",\"gridcolor\":\"white\",\"linecolor\":\"white\",\"showbackground\":true,\"ticks\":\"\",\"zerolinecolor\":\"white\",\"gridwidth\":2},\"yaxis\":{\"backgroundcolor\":\"#E5ECF6\",\"gridcolor\":\"white\",\"linecolor\":\"white\",\"showbackground\":true,\"ticks\":\"\",\"zerolinecolor\":\"white\",\"gridwidth\":2},\"zaxis\":{\"backgroundcolor\":\"#E5ECF6\",\"gridcolor\":\"white\",\"linecolor\":\"white\",\"showbackground\":true,\"ticks\":\"\",\"zerolinecolor\":\"white\",\"gridwidth\":2}},\"shapedefaults\":{\"line\":{\"color\":\"#2a3f5f\"}},\"annotationdefaults\":{\"arrowcolor\":\"#2a3f5f\",\"arrowhead\":0,\"arrowwidth\":1},\"geo\":{\"bgcolor\":\"white\",\"landcolor\":\"#E5ECF6\",\"subunitcolor\":\"white\",\"showland\":true,\"showlakes\":true,\"lakecolor\":\"white\"},\"title\":{\"x\":0.05},\"mapbox\":{\"style\":\"light\"}}},\"xaxis\":{\"anchor\":\"y\",\"domain\":[0.0,0.45],\"title\":{\"text\":\"Epoch\"}},\"yaxis\":{\"anchor\":\"x\",\"domain\":[0.0,1.0],\"title\":{\"text\":\"Root Mean Squared Error\"},\"range\":[2.9966066360473635,40.835018157958984]},\"xaxis2\":{\"anchor\":\"y2\",\"domain\":[0.55,1.0],\"title\":{\"text\":\"TRIP_MILES\"}},\"yaxis2\":{\"anchor\":\"x2\",\"domain\":[0.0,1.0],\"title\":{\"text\":\"FARE\"}},\"annotations\":[{\"font\":{\"size\":16},\"showarrow\":false,\"text\":\"Loss Curve\",\"x\":0.225,\"xanchor\":\"center\",\"xref\":\"paper\",\"y\":1.0,\"yanchor\":\"bottom\",\"yref\":\"paper\"},{\"font\":{\"size\":16},\"showarrow\":false,\"text\":\"Model Plot\",\"x\":0.775,\"xanchor\":\"center\",\"xref\":\"paper\",\"y\":1.0,\"yanchor\":\"bottom\",\"yref\":\"paper\"}]},                        {\"responsive\": true}                    ).then(function(){\n",
       "                            \n",
       "var gd = document.getElementById('9b2919ed-2034-4e0b-b440-432ee73d5de6');\n",
       "var x = new MutationObserver(function (mutations, observer) {{\n",
       "        var display = window.getComputedStyle(gd).display;\n",
       "        if (!display || display === 'none') {{\n",
       "            console.log([gd, 'removed!']);\n",
       "            Plotly.purge(gd);\n",
       "            observer.disconnect();\n",
       "        }}\n",
       "}});\n",
       "\n",
       "// Listen for the removal of the full notebook cells\n",
       "var notebookContainer = gd.closest('#notebook-container');\n",
       "if (notebookContainer) {{\n",
       "    x.observe(notebookContainer, {childList: true});\n",
       "}}\n",
       "\n",
       "// Listen for the clearing of the current output cell\n",
       "var outputEl = gd.closest('.output');\n",
       "if (outputEl) {{\n",
       "    x.observe(outputEl, {childList: true});\n",
       "}}\n",
       "\n",
       "                        })                };                });            </script>        </div>"
      ]
     },
     "metadata": {},
     "output_type": "display_data"
    }
   ],
   "source": [
    "# Experiment 1 - Single Feature\n",
    "\n",
    "# The following variables are the hyperparameters.\n",
    "learning_rate = 0.001\n",
    "epochs = 20\n",
    "batch_size = 50\n",
    "\n",
    "# Specify the feature and the label.\n",
    "features = ['TRIP_MILES']\n",
    "label = 'FARE'\n",
    "\n",
    "model_1 = run_experiment(training_df, features, label, learning_rate, epochs, batch_size)"
   ]
  },
  {
   "cell_type": "code",
   "execution_count": 48,
   "id": "29174113-8e22-46dc-8ada-0cb14e7851b7",
   "metadata": {},
   "outputs": [
    {
     "name": "stdout",
     "output_type": "stream",
     "text": [
      "INFO: starting training experiment with features=['TRIP_MILES', 'TRIP_SECONDS'] and label=FARE\n",
      "\n",
      "Epoch 1/20\n"
     ]
    },
    {
     "name": "stderr",
     "output_type": "stream",
     "text": [
      "C:\\Users\\cdsmi\\AppData\\Roaming\\Python\\Python312\\site-packages\\keras\\src\\layers\\core\\dense.py:87: UserWarning:\n",
      "\n",
      "Do not pass an `input_shape`/`input_dim` argument to a layer. When using Sequential models, prefer using an `Input(shape)` object as the first layer in the model instead.\n",
      "\n"
     ]
    },
    {
     "name": "stdout",
     "output_type": "stream",
     "text": [
      "\u001b[1m634/634\u001b[0m \u001b[32m━━━━━━━━━━━━━━━━━━━━\u001b[0m\u001b[37m\u001b[0m \u001b[1m1s\u001b[0m 1ms/step - loss: 303766.1562 - root_mean_squared_error: 539.1135\n",
      "Epoch 2/20\n",
      "\u001b[1m634/634\u001b[0m \u001b[32m━━━━━━━━━━━━━━━━━━━━\u001b[0m\u001b[37m\u001b[0m \u001b[1m1s\u001b[0m 1ms/step - loss: 74.4564 - root_mean_squared_error: 8.6208\n",
      "Epoch 3/20\n",
      "\u001b[1m634/634\u001b[0m \u001b[32m━━━━━━━━━━━━━━━━━━━━\u001b[0m\u001b[37m\u001b[0m \u001b[1m1s\u001b[0m 1ms/step - loss: 47.4178 - root_mean_squared_error: 6.8815\n",
      "Epoch 4/20\n",
      "\u001b[1m634/634\u001b[0m \u001b[32m━━━━━━━━━━━━━━━━━━━━\u001b[0m\u001b[37m\u001b[0m \u001b[1m1s\u001b[0m 1ms/step - loss: 28.6488 - root_mean_squared_error: 5.3482\n",
      "Epoch 5/20\n",
      "\u001b[1m634/634\u001b[0m \u001b[32m━━━━━━━━━━━━━━━━━━━━\u001b[0m\u001b[37m\u001b[0m \u001b[1m1s\u001b[0m 1ms/step - loss: 18.4477 - root_mean_squared_error: 4.2921\n",
      "Epoch 6/20\n",
      "\u001b[1m634/634\u001b[0m \u001b[32m━━━━━━━━━━━━━━━━━━━━\u001b[0m\u001b[37m\u001b[0m \u001b[1m1s\u001b[0m 1ms/step - loss: 14.1967 - root_mean_squared_error: 3.7621\n",
      "Epoch 7/20\n",
      "\u001b[1m634/634\u001b[0m \u001b[32m━━━━━━━━━━━━━━━━━━━━\u001b[0m\u001b[37m\u001b[0m \u001b[1m1s\u001b[0m 1ms/step - loss: 14.2149 - root_mean_squared_error: 3.7560\n",
      "Epoch 8/20\n",
      "\u001b[1m634/634\u001b[0m \u001b[32m━━━━━━━━━━━━━━━━━━━━\u001b[0m\u001b[37m\u001b[0m \u001b[1m1s\u001b[0m 1ms/step - loss: 13.5415 - root_mean_squared_error: 3.6766\n",
      "Epoch 9/20\n",
      "\u001b[1m634/634\u001b[0m \u001b[32m━━━━━━━━━━━━━━━━━━━━\u001b[0m\u001b[37m\u001b[0m \u001b[1m1s\u001b[0m 1ms/step - loss: 13.9508 - root_mean_squared_error: 3.7242\n",
      "Epoch 10/20\n",
      "\u001b[1m634/634\u001b[0m \u001b[32m━━━━━━━━━━━━━━━━━━━━\u001b[0m\u001b[37m\u001b[0m \u001b[1m1s\u001b[0m 1ms/step - loss: 14.1308 - root_mean_squared_error: 3.7544\n",
      "Epoch 11/20\n",
      "\u001b[1m634/634\u001b[0m \u001b[32m━━━━━━━━━━━━━━━━━━━━\u001b[0m\u001b[37m\u001b[0m \u001b[1m1s\u001b[0m 959us/step - loss: 12.7270 - root_mean_squared_error: 3.5548\n",
      "Epoch 12/20\n",
      "\u001b[1m634/634\u001b[0m \u001b[32m━━━━━━━━━━━━━━━━━━━━\u001b[0m\u001b[37m\u001b[0m \u001b[1m1s\u001b[0m 862us/step - loss: 13.0104 - root_mean_squared_error: 3.5987\n",
      "Epoch 13/20\n",
      "\u001b[1m634/634\u001b[0m \u001b[32m━━━━━━━━━━━━━━━━━━━━\u001b[0m\u001b[37m\u001b[0m \u001b[1m1s\u001b[0m 1ms/step - loss: 12.7580 - root_mean_squared_error: 3.5678\n",
      "Epoch 14/20\n",
      "\u001b[1m634/634\u001b[0m \u001b[32m━━━━━━━━━━━━━━━━━━━━\u001b[0m\u001b[37m\u001b[0m \u001b[1m1s\u001b[0m 1ms/step - loss: 13.1355 - root_mean_squared_error: 3.6184\n",
      "Epoch 15/20\n",
      "\u001b[1m634/634\u001b[0m \u001b[32m━━━━━━━━━━━━━━━━━━━━\u001b[0m\u001b[37m\u001b[0m \u001b[1m1s\u001b[0m 1ms/step - loss: 13.9141 - root_mean_squared_error: 3.7195\n",
      "Epoch 16/20\n",
      "\u001b[1m634/634\u001b[0m \u001b[32m━━━━━━━━━━━━━━━━━━━━\u001b[0m\u001b[37m\u001b[0m \u001b[1m1s\u001b[0m 1ms/step - loss: 13.9871 - root_mean_squared_error: 3.7339\n",
      "Epoch 17/20\n",
      "\u001b[1m634/634\u001b[0m \u001b[32m━━━━━━━━━━━━━━━━━━━━\u001b[0m\u001b[37m\u001b[0m \u001b[1m1s\u001b[0m 1ms/step - loss: 13.0712 - root_mean_squared_error: 3.6122\n",
      "Epoch 18/20\n",
      "\u001b[1m634/634\u001b[0m \u001b[32m━━━━━━━━━━━━━━━━━━━━\u001b[0m\u001b[37m\u001b[0m \u001b[1m1s\u001b[0m 1ms/step - loss: 14.8151 - root_mean_squared_error: 3.8357\n",
      "Epoch 19/20\n",
      "\u001b[1m634/634\u001b[0m \u001b[32m━━━━━━━━━━━━━━━━━━━━\u001b[0m\u001b[37m\u001b[0m \u001b[1m1s\u001b[0m 905us/step - loss: 13.6387 - root_mean_squared_error: 3.6722\n",
      "Epoch 20/20\n",
      "\u001b[1m634/634\u001b[0m \u001b[32m━━━━━━━━━━━━━━━━━━━━\u001b[0m\u001b[37m\u001b[0m \u001b[1m1s\u001b[0m 1ms/step - loss: 13.1757 - root_mean_squared_error: 3.6279\n",
      "\n",
      "SUCCESS: training experiment complete\n",
      "\n",
      "--------------------------------------------------------------------------------\n",
      "|                                  MODEL INFO                                  |\n",
      "--------------------------------------------------------------------------------\n",
      "Weight for feature[TRIP_MILES]: 2.023\n",
      "Weight for feature[TRIP_SECONDS]: 0.002\n",
      "Bias: 3.772\n",
      "\n",
      "FARE = 2.023 * TRIP_MILES + 0.002 * TRIP_SECONDS + 3.772\n",
      "\n"
     ]
    },
    {
     "data": {
      "application/vnd.plotly.v1+json": {
       "config": {
        "plotlyServerURL": "https://plot.ly"
       },
       "data": [
        {
         "hovertemplate": "TRIP_MILES=%{x}<br>TRIP_SECONDS=%{y}<br>FARE=%{z}<extra></extra>",
         "legendgroup": "",
         "marker": {
          "color": "#636efa",
          "symbol": "circle"
         },
         "mode": "markers",
         "name": "",
         "scene": "scene",
         "showlegend": false,
         "type": "scatter3d",
         "x": [
          17.29,
          12.87,
          0.96,
          1.29,
          2.69,
          1.78,
          0.85,
          3.1,
          12.32,
          0.7,
          2.84,
          8.99,
          4.89,
          5.77,
          12.45,
          5.99,
          8.94,
          5,
          12.3,
          13.33,
          1.39,
          1.57,
          14.8,
          15.1,
          17.22,
          3.9,
          4.07,
          2.03,
          4.04,
          4.79,
          1.2,
          10.5,
          17.3,
          1.3,
          1.85,
          17.53,
          11.32,
          1.08,
          8.1,
          1.55,
          11.16,
          29.05,
          0.94,
          18.2,
          10.52,
          1.96,
          0.74,
          23.15,
          14.46,
          0.8,
          1.2,
          18.3,
          13.4,
          2.48,
          17.39,
          10.57,
          17.95,
          12.7,
          10.85,
          5.25,
          6.68,
          1.9,
          0.63,
          1.35,
          2.29,
          4.55,
          0.7,
          3.51,
          16.56,
          11.11,
          14.6,
          5.17,
          0.95,
          2.12,
          15.85,
          17.5,
          10.03,
          3.4,
          1,
          18.1,
          14.76,
          2.8,
          5.6,
          17.4,
          1.2,
          20,
          1.82,
          0.63,
          3.76,
          0.84,
          8.32,
          1.16,
          2.5,
          2.82,
          1.77,
          14.68,
          4.24,
          18.29,
          0.6,
          1.96,
          13.81,
          14.61,
          12.7,
          9.3,
          1.99,
          5.2,
          17.93,
          0.96,
          2.41,
          11.1,
          2.8,
          9.81,
          1.66,
          3.89,
          18.55,
          1,
          1.79,
          11.9,
          2.01,
          2.3,
          1.48,
          17.16,
          0.69,
          6.02,
          3.98,
          0.74,
          8.15,
          2.64,
          2.7,
          9.88,
          6.36,
          1.1,
          7.44,
          16.11,
          0.5,
          3.84,
          5.62,
          1.51,
          18.03,
          12.7,
          3.8,
          13.14,
          9.44,
          17.47,
          20.52,
          5.87,
          1.39,
          8.9,
          0.6,
          17.68,
          2.51,
          6.14,
          1.7,
          9.09,
          9.38,
          11.9,
          17.62,
          17.34,
          18.1,
          2.05,
          19.88,
          20.67,
          13.15,
          5.86,
          1.81,
          17.16,
          11.88,
          1.78,
          0.8,
          18.31,
          0.76,
          17.7,
          31.06,
          2.2,
          27.19,
          3.44,
          1.95,
          2.3,
          0.71,
          1.72,
          2.11,
          16.6,
          15.8,
          5.99,
          3.32,
          0.88,
          0.8,
          7.6,
          0.68,
          17.6,
          2.33,
          1.71,
          14.36,
          3.36,
          8.68,
          2.72,
          1.31,
          11.2,
          63.41,
          1.05
         ],
         "y": [
          2449,
          1471,
          520,
          415,
          962,
          618,
          181,
          840,
          1568,
          300,
          844,
          1866,
          1962,
          626,
          1394,
          598,
          2766,
          780,
          1920,
          2588,
          621,
          658,
          1509,
          1740,
          3272,
          1388,
          1061,
          719,
          579,
          558,
          480,
          1200,
          1980,
          600,
          642,
          4729,
          1294,
          228,
          1312,
          1172,
          1328,
          2607,
          349,
          2305,
          1395,
          773,
          289,
          1985,
          1427,
          360,
          540,
          2974,
          3420,
          1135,
          1955,
          2065,
          1800,
          1020,
          2220,
          897,
          1122,
          564,
          239,
          312,
          477,
          589,
          300,
          840,
          2385,
          898,
          1680,
          896,
          430,
          1139,
          2701,
          1680,
          2528,
          840,
          240,
          2940,
          2190,
          600,
          1080,
          1852,
          240,
          2940,
          774,
          214,
          1086,
          312,
          1212,
          440,
          780,
          667,
          681,
          2455,
          1604,
          3072,
          180,
          949,
          1197,
          2313,
          2456,
          1357,
          607,
          1620,
          2282,
          330,
          486,
          1380,
          1081,
          3675,
          498,
          657,
          1593,
          420,
          601,
          1260,
          722,
          480,
          606,
          2217,
          295,
          1164,
          613,
          345,
          1024,
          586,
          600,
          1545,
          2361,
          360,
          1059,
          2235,
          235,
          915,
          776,
          643,
          3450,
          2340,
          480,
          1859,
          1119,
          2020,
          3456,
          751,
          526,
          1078,
          300,
          1409,
          1237,
          882,
          645,
          2848,
          3307,
          1698,
          2899,
          2888,
          2220,
          483,
          3155,
          1646,
          2417,
          878,
          486,
          2933,
          1277,
          589,
          300,
          2088,
          497,
          2220,
          3095,
          717,
          2355,
          1151,
          782,
          900,
          272,
          490,
          607,
          3331,
          2100,
          1642,
          1462,
          294,
          360,
          1030,
          244,
          2280,
          727,
          517,
          3186,
          1135,
          1424,
          467,
          403,
          1140,
          4362,
          350
         ],
         "z": [
          44.25,
          33.75,
          7,
          7.25,
          11.25,
          8.5,
          5.25,
          11.5,
          31.5,
          5.25,
          11,
          26.75,
          19,
          16.69,
          32.5,
          17,
          29.5,
          15,
          31.75,
          35.5,
          8.25,
          9,
          38,
          38,
          45.25,
          16.38,
          14.25,
          9.21,
          12.68,
          14.25,
          7.25,
          29,
          42.75,
          8,
          9,
          48,
          29.25,
          6,
          23.75,
          11.5,
          29.25,
          72.25,
          6,
          45.5,
          28.75,
          9.5,
          5.5,
          57.25,
          37,
          5.5,
          8.75,
          46,
          37.75,
          12.25,
          43,
          30,
          44.75,
          31.75,
          33.25,
          16,
          19,
          8.75,
          5,
          9,
          9,
          14,
          5.75,
          12.25,
          41.5,
          28.5,
          37.75,
          16.25,
          6.25,
          11.25,
          46.79,
          43.5,
          30,
          12,
          5.75,
          45.5,
          38.75,
          10.5,
          17.25,
          44,
          6.25,
          49.5,
          9.25,
          5.25,
          13.25,
          9,
          23.75,
          6.75,
          10.5,
          10.75,
          9.25,
          40.86,
          16.75,
          46.75,
          4.75,
          10.25,
          35.5,
          39.25,
          34.86,
          26.25,
          9.96,
          18,
          45,
          6,
          9.25,
          30,
          12.25,
          35.25,
          8,
          12.75,
          45.5,
          6.75,
          8.75,
          30.75,
          9.67,
          9,
          8.25,
          43.75,
          5.5,
          18.75,
          12.75,
          9,
          22.5,
          10.25,
          10.5,
          28.5,
          23.5,
          6.5,
          21.5,
          42,
          5,
          14,
          18.85,
          8.25,
          46.5,
          35.75,
          11.75,
          37.91,
          25.5,
          44.75,
          51,
          17,
          7.75,
          23.75,
          5.5,
          43.25,
          12.5,
          18,
          8.5,
          29.25,
          31.75,
          31.75,
          44.25,
          44,
          44.75,
          8.5,
          85.79,
          50.25,
          36.75,
          16.8,
          9,
          42.69,
          32.56,
          9,
          5.5,
          45.25,
          6.25,
          44.25,
          76.75,
          9.5,
          65.25,
          13.25,
          9.5,
          10.75,
          5.25,
          8,
          9.04,
          60,
          40.25,
          19.5,
          11.83,
          9,
          6.25,
          21.75,
          5,
          44.25,
          10,
          8,
          41,
          13.5,
          24.5,
          10,
          7,
          29.75,
          147,
          6.25
         ]
        },
        {
         "colorscale": [
          [
           0,
           "#89CFF0"
          ],
          [
           1,
           "#FFDB58"
          ]
         ],
         "scene": "scene",
         "type": "surface",
         "x": [
          0.5656491588471998,
          29.338414955195358,
          62.971941067328686
         ],
         "y": [
          180,
          2274.5,
          4729
         ],
         "z": [
          [
           5.35131874633953,
           68.61637506703846,
           142.58406888041645
          ],
          [
           5.35131874633953,
           68.61637506703846,
           142.58406888041645
          ],
          [
           5.35131874633953,
           68.61637506703846,
           142.58406888041645
          ]
         ]
        },
        {
         "hovertemplate": "x=%{x}<br>y=%{y}<extra></extra>",
         "legendgroup": "",
         "line": {
          "color": "#ff0000",
          "dash": "solid",
          "width": 3
         },
         "marker": {
          "symbol": "circle"
         },
         "mode": "lines",
         "name": "",
         "orientation": "v",
         "showlegend": false,
         "type": "scatter",
         "x": [
          0,
          1,
          2,
          3,
          4,
          5,
          6,
          7,
          8,
          9,
          10,
          11,
          12,
          13,
          14,
          15,
          16,
          17,
          18,
          19
         ],
         "xaxis": "x",
         "y": [
          378.48480224609375,
          8.17281723022461,
          6.460362911224365,
          5.0438151359558105,
          4.158669948577881,
          3.8132550716400146,
          3.7002899646759033,
          3.657991886138916,
          3.6436426639556885,
          3.6341660022735596,
          3.619816303253174,
          3.621570110321045,
          3.604886293411255,
          3.607593297958374,
          3.606733560562134,
          3.603724241256714,
          3.6003360748291016,
          3.6072323322296143,
          3.609070301055908,
          3.605952262878418
         ],
         "yaxis": "y"
        }
       ],
       "layout": {
        "annotations": [
         {
          "font": {
           "size": 16
          },
          "showarrow": false,
          "text": "Loss Curve",
          "x": 0.225,
          "xanchor": "center",
          "xref": "paper",
          "y": 1,
          "yanchor": "bottom",
          "yref": "paper"
         },
         {
          "font": {
           "size": 16
          },
          "showarrow": false,
          "text": "Model Plot",
          "x": 0.775,
          "xanchor": "center",
          "xref": "paper",
          "y": 1,
          "yanchor": "bottom",
          "yref": "paper"
         }
        ],
        "scene": {
         "domain": {
          "x": [
           0.55,
           1
          ],
          "y": [
           0,
           1
          ]
         },
         "xaxis": {
          "title": {
           "text": "TRIP_MILES"
          }
         },
         "yaxis": {
          "title": {
           "text": "TRIP_SECONDS"
          }
         },
         "zaxis": {
          "title": {
           "text": "FARE"
          }
         }
        },
        "template": {
         "data": {
          "bar": [
           {
            "error_x": {
             "color": "#2a3f5f"
            },
            "error_y": {
             "color": "#2a3f5f"
            },
            "marker": {
             "line": {
              "color": "#E5ECF6",
              "width": 0.5
             },
             "pattern": {
              "fillmode": "overlay",
              "size": 10,
              "solidity": 0.2
             }
            },
            "type": "bar"
           }
          ],
          "barpolar": [
           {
            "marker": {
             "line": {
              "color": "#E5ECF6",
              "width": 0.5
             },
             "pattern": {
              "fillmode": "overlay",
              "size": 10,
              "solidity": 0.2
             }
            },
            "type": "barpolar"
           }
          ],
          "carpet": [
           {
            "aaxis": {
             "endlinecolor": "#2a3f5f",
             "gridcolor": "white",
             "linecolor": "white",
             "minorgridcolor": "white",
             "startlinecolor": "#2a3f5f"
            },
            "baxis": {
             "endlinecolor": "#2a3f5f",
             "gridcolor": "white",
             "linecolor": "white",
             "minorgridcolor": "white",
             "startlinecolor": "#2a3f5f"
            },
            "type": "carpet"
           }
          ],
          "choropleth": [
           {
            "colorbar": {
             "outlinewidth": 0,
             "ticks": ""
            },
            "type": "choropleth"
           }
          ],
          "contour": [
           {
            "colorbar": {
             "outlinewidth": 0,
             "ticks": ""
            },
            "colorscale": [
             [
              0,
              "#0d0887"
             ],
             [
              0.1111111111111111,
              "#46039f"
             ],
             [
              0.2222222222222222,
              "#7201a8"
             ],
             [
              0.3333333333333333,
              "#9c179e"
             ],
             [
              0.4444444444444444,
              "#bd3786"
             ],
             [
              0.5555555555555556,
              "#d8576b"
             ],
             [
              0.6666666666666666,
              "#ed7953"
             ],
             [
              0.7777777777777778,
              "#fb9f3a"
             ],
             [
              0.8888888888888888,
              "#fdca26"
             ],
             [
              1,
              "#f0f921"
             ]
            ],
            "type": "contour"
           }
          ],
          "contourcarpet": [
           {
            "colorbar": {
             "outlinewidth": 0,
             "ticks": ""
            },
            "type": "contourcarpet"
           }
          ],
          "heatmap": [
           {
            "colorbar": {
             "outlinewidth": 0,
             "ticks": ""
            },
            "colorscale": [
             [
              0,
              "#0d0887"
             ],
             [
              0.1111111111111111,
              "#46039f"
             ],
             [
              0.2222222222222222,
              "#7201a8"
             ],
             [
              0.3333333333333333,
              "#9c179e"
             ],
             [
              0.4444444444444444,
              "#bd3786"
             ],
             [
              0.5555555555555556,
              "#d8576b"
             ],
             [
              0.6666666666666666,
              "#ed7953"
             ],
             [
              0.7777777777777778,
              "#fb9f3a"
             ],
             [
              0.8888888888888888,
              "#fdca26"
             ],
             [
              1,
              "#f0f921"
             ]
            ],
            "type": "heatmap"
           }
          ],
          "heatmapgl": [
           {
            "colorbar": {
             "outlinewidth": 0,
             "ticks": ""
            },
            "colorscale": [
             [
              0,
              "#0d0887"
             ],
             [
              0.1111111111111111,
              "#46039f"
             ],
             [
              0.2222222222222222,
              "#7201a8"
             ],
             [
              0.3333333333333333,
              "#9c179e"
             ],
             [
              0.4444444444444444,
              "#bd3786"
             ],
             [
              0.5555555555555556,
              "#d8576b"
             ],
             [
              0.6666666666666666,
              "#ed7953"
             ],
             [
              0.7777777777777778,
              "#fb9f3a"
             ],
             [
              0.8888888888888888,
              "#fdca26"
             ],
             [
              1,
              "#f0f921"
             ]
            ],
            "type": "heatmapgl"
           }
          ],
          "histogram": [
           {
            "marker": {
             "pattern": {
              "fillmode": "overlay",
              "size": 10,
              "solidity": 0.2
             }
            },
            "type": "histogram"
           }
          ],
          "histogram2d": [
           {
            "colorbar": {
             "outlinewidth": 0,
             "ticks": ""
            },
            "colorscale": [
             [
              0,
              "#0d0887"
             ],
             [
              0.1111111111111111,
              "#46039f"
             ],
             [
              0.2222222222222222,
              "#7201a8"
             ],
             [
              0.3333333333333333,
              "#9c179e"
             ],
             [
              0.4444444444444444,
              "#bd3786"
             ],
             [
              0.5555555555555556,
              "#d8576b"
             ],
             [
              0.6666666666666666,
              "#ed7953"
             ],
             [
              0.7777777777777778,
              "#fb9f3a"
             ],
             [
              0.8888888888888888,
              "#fdca26"
             ],
             [
              1,
              "#f0f921"
             ]
            ],
            "type": "histogram2d"
           }
          ],
          "histogram2dcontour": [
           {
            "colorbar": {
             "outlinewidth": 0,
             "ticks": ""
            },
            "colorscale": [
             [
              0,
              "#0d0887"
             ],
             [
              0.1111111111111111,
              "#46039f"
             ],
             [
              0.2222222222222222,
              "#7201a8"
             ],
             [
              0.3333333333333333,
              "#9c179e"
             ],
             [
              0.4444444444444444,
              "#bd3786"
             ],
             [
              0.5555555555555556,
              "#d8576b"
             ],
             [
              0.6666666666666666,
              "#ed7953"
             ],
             [
              0.7777777777777778,
              "#fb9f3a"
             ],
             [
              0.8888888888888888,
              "#fdca26"
             ],
             [
              1,
              "#f0f921"
             ]
            ],
            "type": "histogram2dcontour"
           }
          ],
          "mesh3d": [
           {
            "colorbar": {
             "outlinewidth": 0,
             "ticks": ""
            },
            "type": "mesh3d"
           }
          ],
          "parcoords": [
           {
            "line": {
             "colorbar": {
              "outlinewidth": 0,
              "ticks": ""
             }
            },
            "type": "parcoords"
           }
          ],
          "pie": [
           {
            "automargin": true,
            "type": "pie"
           }
          ],
          "scatter": [
           {
            "fillpattern": {
             "fillmode": "overlay",
             "size": 10,
             "solidity": 0.2
            },
            "type": "scatter"
           }
          ],
          "scatter3d": [
           {
            "line": {
             "colorbar": {
              "outlinewidth": 0,
              "ticks": ""
             }
            },
            "marker": {
             "colorbar": {
              "outlinewidth": 0,
              "ticks": ""
             }
            },
            "type": "scatter3d"
           }
          ],
          "scattercarpet": [
           {
            "marker": {
             "colorbar": {
              "outlinewidth": 0,
              "ticks": ""
             }
            },
            "type": "scattercarpet"
           }
          ],
          "scattergeo": [
           {
            "marker": {
             "colorbar": {
              "outlinewidth": 0,
              "ticks": ""
             }
            },
            "type": "scattergeo"
           }
          ],
          "scattergl": [
           {
            "marker": {
             "colorbar": {
              "outlinewidth": 0,
              "ticks": ""
             }
            },
            "type": "scattergl"
           }
          ],
          "scattermapbox": [
           {
            "marker": {
             "colorbar": {
              "outlinewidth": 0,
              "ticks": ""
             }
            },
            "type": "scattermapbox"
           }
          ],
          "scatterpolar": [
           {
            "marker": {
             "colorbar": {
              "outlinewidth": 0,
              "ticks": ""
             }
            },
            "type": "scatterpolar"
           }
          ],
          "scatterpolargl": [
           {
            "marker": {
             "colorbar": {
              "outlinewidth": 0,
              "ticks": ""
             }
            },
            "type": "scatterpolargl"
           }
          ],
          "scatterternary": [
           {
            "marker": {
             "colorbar": {
              "outlinewidth": 0,
              "ticks": ""
             }
            },
            "type": "scatterternary"
           }
          ],
          "surface": [
           {
            "colorbar": {
             "outlinewidth": 0,
             "ticks": ""
            },
            "colorscale": [
             [
              0,
              "#0d0887"
             ],
             [
              0.1111111111111111,
              "#46039f"
             ],
             [
              0.2222222222222222,
              "#7201a8"
             ],
             [
              0.3333333333333333,
              "#9c179e"
             ],
             [
              0.4444444444444444,
              "#bd3786"
             ],
             [
              0.5555555555555556,
              "#d8576b"
             ],
             [
              0.6666666666666666,
              "#ed7953"
             ],
             [
              0.7777777777777778,
              "#fb9f3a"
             ],
             [
              0.8888888888888888,
              "#fdca26"
             ],
             [
              1,
              "#f0f921"
             ]
            ],
            "type": "surface"
           }
          ],
          "table": [
           {
            "cells": {
             "fill": {
              "color": "#EBF0F8"
             },
             "line": {
              "color": "white"
             }
            },
            "header": {
             "fill": {
              "color": "#C8D4E3"
             },
             "line": {
              "color": "white"
             }
            },
            "type": "table"
           }
          ]
         },
         "layout": {
          "annotationdefaults": {
           "arrowcolor": "#2a3f5f",
           "arrowhead": 0,
           "arrowwidth": 1
          },
          "autotypenumbers": "strict",
          "coloraxis": {
           "colorbar": {
            "outlinewidth": 0,
            "ticks": ""
           }
          },
          "colorscale": {
           "diverging": [
            [
             0,
             "#8e0152"
            ],
            [
             0.1,
             "#c51b7d"
            ],
            [
             0.2,
             "#de77ae"
            ],
            [
             0.3,
             "#f1b6da"
            ],
            [
             0.4,
             "#fde0ef"
            ],
            [
             0.5,
             "#f7f7f7"
            ],
            [
             0.6,
             "#e6f5d0"
            ],
            [
             0.7,
             "#b8e186"
            ],
            [
             0.8,
             "#7fbc41"
            ],
            [
             0.9,
             "#4d9221"
            ],
            [
             1,
             "#276419"
            ]
           ],
           "sequential": [
            [
             0,
             "#0d0887"
            ],
            [
             0.1111111111111111,
             "#46039f"
            ],
            [
             0.2222222222222222,
             "#7201a8"
            ],
            [
             0.3333333333333333,
             "#9c179e"
            ],
            [
             0.4444444444444444,
             "#bd3786"
            ],
            [
             0.5555555555555556,
             "#d8576b"
            ],
            [
             0.6666666666666666,
             "#ed7953"
            ],
            [
             0.7777777777777778,
             "#fb9f3a"
            ],
            [
             0.8888888888888888,
             "#fdca26"
            ],
            [
             1,
             "#f0f921"
            ]
           ],
           "sequentialminus": [
            [
             0,
             "#0d0887"
            ],
            [
             0.1111111111111111,
             "#46039f"
            ],
            [
             0.2222222222222222,
             "#7201a8"
            ],
            [
             0.3333333333333333,
             "#9c179e"
            ],
            [
             0.4444444444444444,
             "#bd3786"
            ],
            [
             0.5555555555555556,
             "#d8576b"
            ],
            [
             0.6666666666666666,
             "#ed7953"
            ],
            [
             0.7777777777777778,
             "#fb9f3a"
            ],
            [
             0.8888888888888888,
             "#fdca26"
            ],
            [
             1,
             "#f0f921"
            ]
           ]
          },
          "colorway": [
           "#636efa",
           "#EF553B",
           "#00cc96",
           "#ab63fa",
           "#FFA15A",
           "#19d3f3",
           "#FF6692",
           "#B6E880",
           "#FF97FF",
           "#FECB52"
          ],
          "font": {
           "color": "#2a3f5f"
          },
          "geo": {
           "bgcolor": "white",
           "lakecolor": "white",
           "landcolor": "#E5ECF6",
           "showlakes": true,
           "showland": true,
           "subunitcolor": "white"
          },
          "hoverlabel": {
           "align": "left"
          },
          "hovermode": "closest",
          "mapbox": {
           "style": "light"
          },
          "paper_bgcolor": "white",
          "plot_bgcolor": "#E5ECF6",
          "polar": {
           "angularaxis": {
            "gridcolor": "white",
            "linecolor": "white",
            "ticks": ""
           },
           "bgcolor": "#E5ECF6",
           "radialaxis": {
            "gridcolor": "white",
            "linecolor": "white",
            "ticks": ""
           }
          },
          "scene": {
           "xaxis": {
            "backgroundcolor": "#E5ECF6",
            "gridcolor": "white",
            "gridwidth": 2,
            "linecolor": "white",
            "showbackground": true,
            "ticks": "",
            "zerolinecolor": "white"
           },
           "yaxis": {
            "backgroundcolor": "#E5ECF6",
            "gridcolor": "white",
            "gridwidth": 2,
            "linecolor": "white",
            "showbackground": true,
            "ticks": "",
            "zerolinecolor": "white"
           },
           "zaxis": {
            "backgroundcolor": "#E5ECF6",
            "gridcolor": "white",
            "gridwidth": 2,
            "linecolor": "white",
            "showbackground": true,
            "ticks": "",
            "zerolinecolor": "white"
           }
          },
          "shapedefaults": {
           "line": {
            "color": "#2a3f5f"
           }
          },
          "ternary": {
           "aaxis": {
            "gridcolor": "white",
            "linecolor": "white",
            "ticks": ""
           },
           "baxis": {
            "gridcolor": "white",
            "linecolor": "white",
            "ticks": ""
           },
           "bgcolor": "#E5ECF6",
           "caxis": {
            "gridcolor": "white",
            "linecolor": "white",
            "ticks": ""
           }
          },
          "title": {
           "x": 0.05
          },
          "xaxis": {
           "automargin": true,
           "gridcolor": "white",
           "linecolor": "white",
           "ticks": "",
           "title": {
            "standoff": 15
           },
           "zerolinecolor": "white",
           "zerolinewidth": 2
          },
          "yaxis": {
           "automargin": true,
           "gridcolor": "white",
           "linecolor": "white",
           "ticks": "",
           "title": {
            "standoff": 15
           },
           "zerolinecolor": "white",
           "zerolinewidth": 2
          }
         }
        },
        "xaxis": {
         "anchor": "y",
         "domain": [
          0,
          0.45
         ],
         "title": {
          "text": "Epoch"
         }
        },
        "yaxis": {
         "anchor": "x",
         "domain": [
          0,
          1
         ],
         "range": [
          2.8802688598632815,
          378.48480224609375
         ],
         "title": {
          "text": "Root Mean Squared Error"
         }
        }
       }
      },
      "image/png": "[encoded data removed]",
      "text/html": [
       "<div>                            <div id=\"19e61a28-7900-4a87-9634-f5e45f56526a\" class=\"plotly-graph-div\" style=\"height:525px; width:100%;\"></div>            <script type=\"text/javascript\">                require([\"plotly\"], function(Plotly) {                    window.PLOTLYENV=window.PLOTLYENV || {};                                    if (document.getElementById(\"19e61a28-7900-4a87-9634-f5e45f56526a\")) {                    Plotly.newPlot(                        \"19e61a28-7900-4a87-9634-f5e45f56526a\",                        [{\"hovertemplate\":\"TRIP_MILES=%{x}\\u003cbr\\u003eTRIP_SECONDS=%{y}\\u003cbr\\u003eFARE=%{z}\\u003cextra\\u003e\\u003c\\u002fextra\\u003e\",\"legendgroup\":\"\",\"marker\":{\"color\":\"#636efa\",\"symbol\":\"circle\"},\"mode\":\"markers\",\"name\":\"\",\"scene\":\"scene\",\"showlegend\":false,\"x\":[17.29,12.87,0.96,1.29,2.69,1.78,0.85,3.1,12.32,0.7,2.84,8.99,4.89,5.77,12.45,5.99,8.94,5.0,12.3,13.33,1.39,1.57,14.8,15.1,17.22,3.9,4.07,2.03,4.04,4.79,1.2,10.5,17.3,1.3,1.85,17.53,11.32,1.08,8.1,1.55,11.16,29.05,0.94,18.2,10.52,1.96,0.74,23.15,14.46,0.8,1.2,18.3,13.4,2.48,17.39,10.57,17.95,12.7,10.85,5.25,6.68,1.9,0.63,1.35,2.29,4.55,0.7,3.51,16.56,11.11,14.6,5.17,0.95,2.12,15.85,17.5,10.03,3.4,1.0,18.1,14.76,2.8,5.6,17.4,1.2,20.0,1.82,0.63,3.76,0.84,8.32,1.16,2.5,2.82,1.77,14.68,4.24,18.29,0.6,1.96,13.81,14.61,12.7,9.3,1.99,5.2,17.93,0.96,2.41,11.1,2.8,9.81,1.66,3.89,18.55,1.0,1.79,11.9,2.01,2.3,1.48,17.16,0.69,6.02,3.98,0.74,8.15,2.64,2.7,9.88,6.36,1.1,7.44,16.11,0.5,3.84,5.62,1.51,18.03,12.7,3.8,13.14,9.44,17.47,20.52,5.87,1.39,8.9,0.6,17.68,2.51,6.14,1.7,9.09,9.38,11.9,17.62,17.34,18.1,2.05,19.88,20.67,13.15,5.86,1.81,17.16,11.88,1.78,0.8,18.31,0.76,17.7,31.06,2.2,27.19,3.44,1.95,2.3,0.71,1.72,2.11,16.6,15.8,5.99,3.32,0.88,0.8,7.6,0.68,17.6,2.33,1.71,14.36,3.36,8.68,2.72,1.31,11.2,63.41,1.05],\"y\":[2449,1471,520,415,962,618,181,840,1568,300,844,1866,1962,626,1394,598,2766,780,1920,2588,621,658,1509,1740,3272,1388,1061,719,579,558,480,1200,1980,600,642,4729,1294,228,1312,1172,1328,2607,349,2305,1395,773,289,1985,1427,360,540,2974,3420,1135,1955,2065,1800,1020,2220,897,1122,564,239,312,477,589,300,840,2385,898,1680,896,430,1139,2701,1680,2528,840,240,2940,2190,600,1080,1852,240,2940,774,214,1086,312,1212,440,780,667,681,2455,1604,3072,180,949,1197,2313,2456,1357,607,1620,2282,330,486,1380,1081,3675,498,657,1593,420,601,1260,722,480,606,2217,295,1164,613,345,1024,586,600,1545,2361,360,1059,2235,235,915,776,643,3450,2340,480,1859,1119,2020,3456,751,526,1078,300,1409,1237,882,645,2848,3307,1698,2899,2888,2220,483,3155,1646,2417,878,486,2933,1277,589,300,2088,497,2220,3095,717,2355,1151,782,900,272,490,607,3331,2100,1642,1462,294,360,1030,244,2280,727,517,3186,1135,1424,467,403,1140,4362,350],\"z\":[44.25,33.75,7.0,7.25,11.25,8.5,5.25,11.5,31.5,5.25,11.0,26.75,19.0,16.69,32.5,17.0,29.5,15.0,31.75,35.5,8.25,9.0,38.0,38.0,45.25,16.38,14.25,9.21,12.68,14.25,7.25,29.0,42.75,8.0,9.0,48.0,29.25,6.0,23.75,11.5,29.25,72.25,6.0,45.5,28.75,9.5,5.5,57.25,37.0,5.5,8.75,46.0,37.75,12.25,43.0,30.0,44.75,31.75,33.25,16.0,19.0,8.75,5.0,9.0,9.0,14.0,5.75,12.25,41.5,28.5,37.75,16.25,6.25,11.25,46.79,43.5,30.0,12.0,5.75,45.5,38.75,10.5,17.25,44.0,6.25,49.5,9.25,5.25,13.25,9.0,23.75,6.75,10.5,10.75,9.25,40.86,16.75,46.75,4.75,10.25,35.5,39.25,34.86,26.25,9.96,18.0,45.0,6.0,9.25,30.0,12.25,35.25,8.0,12.75,45.5,6.75,8.75,30.75,9.67,9.0,8.25,43.75,5.5,18.75,12.75,9.0,22.5,10.25,10.5,28.5,23.5,6.5,21.5,42.0,5.0,14.0,18.85,8.25,46.5,35.75,11.75,37.91,25.5,44.75,51.0,17.0,7.75,23.75,5.5,43.25,12.5,18.0,8.5,29.25,31.75,31.75,44.25,44.0,44.75,8.5,85.79,50.25,36.75,16.8,9.0,42.69,32.56,9.0,5.5,45.25,6.25,44.25,76.75,9.5,65.25,13.25,9.5,10.75,5.25,8.0,9.04,60.0,40.25,19.5,11.83,9.0,6.25,21.75,5.0,44.25,10.0,8.0,41.0,13.5,24.5,10.0,7.0,29.75,147.0,6.25],\"type\":\"scatter3d\"},{\"colorscale\":[[0,\"#89CFF0\"],[1,\"#FFDB58\"]],\"x\":[0.5656491588471998,29.338414955195358,62.971941067328686],\"y\":[180.0,2274.5,4729.0],\"z\":[[5.35131874633953,68.61637506703846,142.58406888041645],[5.35131874633953,68.61637506703846,142.58406888041645],[5.35131874633953,68.61637506703846,142.58406888041645]],\"type\":\"surface\",\"scene\":\"scene\"},{\"hovertemplate\":\"x=%{x}\\u003cbr\\u003ey=%{y}\\u003cextra\\u003e\\u003c\\u002fextra\\u003e\",\"legendgroup\":\"\",\"line\":{\"color\":\"#ff0000\",\"dash\":\"solid\",\"width\":3},\"marker\":{\"symbol\":\"circle\"},\"mode\":\"lines\",\"name\":\"\",\"orientation\":\"v\",\"showlegend\":false,\"x\":[0,1,2,3,4,5,6,7,8,9,10,11,12,13,14,15,16,17,18,19],\"xaxis\":\"x\",\"y\":[378.48480224609375,8.17281723022461,6.460362911224365,5.0438151359558105,4.158669948577881,3.8132550716400146,3.7002899646759033,3.657991886138916,3.6436426639556885,3.6341660022735596,3.619816303253174,3.621570110321045,3.604886293411255,3.607593297958374,3.606733560562134,3.603724241256714,3.6003360748291016,3.6072323322296143,3.609070301055908,3.605952262878418],\"yaxis\":\"y\",\"type\":\"scatter\"}],                        {\"template\":{\"data\":{\"histogram2dcontour\":[{\"type\":\"histogram2dcontour\",\"colorbar\":{\"outlinewidth\":0,\"ticks\":\"\"},\"colorscale\":[[0.0,\"#0d0887\"],[0.1111111111111111,\"#46039f\"],[0.2222222222222222,\"#7201a8\"],[0.3333333333333333,\"#9c179e\"],[0.4444444444444444,\"#bd3786\"],[0.5555555555555556,\"#d8576b\"],[0.6666666666666666,\"#ed7953\"],[0.7777777777777778,\"#fb9f3a\"],[0.8888888888888888,\"#fdca26\"],[1.0,\"#f0f921\"]]}],\"choropleth\":[{\"type\":\"choropleth\",\"colorbar\":{\"outlinewidth\":0,\"ticks\":\"\"}}],\"histogram2d\":[{\"type\":\"histogram2d\",\"colorbar\":{\"outlinewidth\":0,\"ticks\":\"\"},\"colorscale\":[[0.0,\"#0d0887\"],[0.1111111111111111,\"#46039f\"],[0.2222222222222222,\"#7201a8\"],[0.3333333333333333,\"#9c179e\"],[0.4444444444444444,\"#bd3786\"],[0.5555555555555556,\"#d8576b\"],[0.6666666666666666,\"#ed7953\"],[0.7777777777777778,\"#fb9f3a\"],[0.8888888888888888,\"#fdca26\"],[1.0,\"#f0f921\"]]}],\"heatmap\":[{\"type\":\"heatmap\",\"colorbar\":{\"outlinewidth\":0,\"ticks\":\"\"},\"colorscale\":[[0.0,\"#0d0887\"],[0.1111111111111111,\"#46039f\"],[0.2222222222222222,\"#7201a8\"],[0.3333333333333333,\"#9c179e\"],[0.4444444444444444,\"#bd3786\"],[0.5555555555555556,\"#d8576b\"],[0.6666666666666666,\"#ed7953\"],[0.7777777777777778,\"#fb9f3a\"],[0.8888888888888888,\"#fdca26\"],[1.0,\"#f0f921\"]]}],\"heatmapgl\":[{\"type\":\"heatmapgl\",\"colorbar\":{\"outlinewidth\":0,\"ticks\":\"\"},\"colorscale\":[[0.0,\"#0d0887\"],[0.1111111111111111,\"#46039f\"],[0.2222222222222222,\"#7201a8\"],[0.3333333333333333,\"#9c179e\"],[0.4444444444444444,\"#bd3786\"],[0.5555555555555556,\"#d8576b\"],[0.6666666666666666,\"#ed7953\"],[0.7777777777777778,\"#fb9f3a\"],[0.8888888888888888,\"#fdca26\"],[1.0,\"#f0f921\"]]}],\"contourcarpet\":[{\"type\":\"contourcarpet\",\"colorbar\":{\"outlinewidth\":0,\"ticks\":\"\"}}],\"contour\":[{\"type\":\"contour\",\"colorbar\":{\"outlinewidth\":0,\"ticks\":\"\"},\"colorscale\":[[0.0,\"#0d0887\"],[0.1111111111111111,\"#46039f\"],[0.2222222222222222,\"#7201a8\"],[0.3333333333333333,\"#9c179e\"],[0.4444444444444444,\"#bd3786\"],[0.5555555555555556,\"#d8576b\"],[0.6666666666666666,\"#ed7953\"],[0.7777777777777778,\"#fb9f3a\"],[0.8888888888888888,\"#fdca26\"],[1.0,\"#f0f921\"]]}],\"surface\":[{\"type\":\"surface\",\"colorbar\":{\"outlinewidth\":0,\"ticks\":\"\"},\"colorscale\":[[0.0,\"#0d0887\"],[0.1111111111111111,\"#46039f\"],[0.2222222222222222,\"#7201a8\"],[0.3333333333333333,\"#9c179e\"],[0.4444444444444444,\"#bd3786\"],[0.5555555555555556,\"#d8576b\"],[0.6666666666666666,\"#ed7953\"],[0.7777777777777778,\"#fb9f3a\"],[0.8888888888888888,\"#fdca26\"],[1.0,\"#f0f921\"]]}],\"mesh3d\":[{\"type\":\"mesh3d\",\"colorbar\":{\"outlinewidth\":0,\"ticks\":\"\"}}],\"scatter\":[{\"fillpattern\":{\"fillmode\":\"overlay\",\"size\":10,\"solidity\":0.2},\"type\":\"scatter\"}],\"parcoords\":[{\"type\":\"parcoords\",\"line\":{\"colorbar\":{\"outlinewidth\":0,\"ticks\":\"\"}}}],\"scatterpolargl\":[{\"type\":\"scatterpolargl\",\"marker\":{\"colorbar\":{\"outlinewidth\":0,\"ticks\":\"\"}}}],\"bar\":[{\"error_x\":{\"color\":\"#2a3f5f\"},\"error_y\":{\"color\":\"#2a3f5f\"},\"marker\":{\"line\":{\"color\":\"#E5ECF6\",\"width\":0.5},\"pattern\":{\"fillmode\":\"overlay\",\"size\":10,\"solidity\":0.2}},\"type\":\"bar\"}],\"scattergeo\":[{\"type\":\"scattergeo\",\"marker\":{\"colorbar\":{\"outlinewidth\":0,\"ticks\":\"\"}}}],\"scatterpolar\":[{\"type\":\"scatterpolar\",\"marker\":{\"colorbar\":{\"outlinewidth\":0,\"ticks\":\"\"}}}],\"histogram\":[{\"marker\":{\"pattern\":{\"fillmode\":\"overlay\",\"size\":10,\"solidity\":0.2}},\"type\":\"histogram\"}],\"scattergl\":[{\"type\":\"scattergl\",\"marker\":{\"colorbar\":{\"outlinewidth\":0,\"ticks\":\"\"}}}],\"scatter3d\":[{\"type\":\"scatter3d\",\"line\":{\"colorbar\":{\"outlinewidth\":0,\"ticks\":\"\"}},\"marker\":{\"colorbar\":{\"outlinewidth\":0,\"ticks\":\"\"}}}],\"scattermapbox\":[{\"type\":\"scattermapbox\",\"marker\":{\"colorbar\":{\"outlinewidth\":0,\"ticks\":\"\"}}}],\"scatterternary\":[{\"type\":\"scatterternary\",\"marker\":{\"colorbar\":{\"outlinewidth\":0,\"ticks\":\"\"}}}],\"scattercarpet\":[{\"type\":\"scattercarpet\",\"marker\":{\"colorbar\":{\"outlinewidth\":0,\"ticks\":\"\"}}}],\"carpet\":[{\"aaxis\":{\"endlinecolor\":\"#2a3f5f\",\"gridcolor\":\"white\",\"linecolor\":\"white\",\"minorgridcolor\":\"white\",\"startlinecolor\":\"#2a3f5f\"},\"baxis\":{\"endlinecolor\":\"#2a3f5f\",\"gridcolor\":\"white\",\"linecolor\":\"white\",\"minorgridcolor\":\"white\",\"startlinecolor\":\"#2a3f5f\"},\"type\":\"carpet\"}],\"table\":[{\"cells\":{\"fill\":{\"color\":\"#EBF0F8\"},\"line\":{\"color\":\"white\"}},\"header\":{\"fill\":{\"color\":\"#C8D4E3\"},\"line\":{\"color\":\"white\"}},\"type\":\"table\"}],\"barpolar\":[{\"marker\":{\"line\":{\"color\":\"#E5ECF6\",\"width\":0.5},\"pattern\":{\"fillmode\":\"overlay\",\"size\":10,\"solidity\":0.2}},\"type\":\"barpolar\"}],\"pie\":[{\"automargin\":true,\"type\":\"pie\"}]},\"layout\":{\"autotypenumbers\":\"strict\",\"colorway\":[\"#636efa\",\"#EF553B\",\"#00cc96\",\"#ab63fa\",\"#FFA15A\",\"#19d3f3\",\"#FF6692\",\"#B6E880\",\"#FF97FF\",\"#FECB52\"],\"font\":{\"color\":\"#2a3f5f\"},\"hovermode\":\"closest\",\"hoverlabel\":{\"align\":\"left\"},\"paper_bgcolor\":\"white\",\"plot_bgcolor\":\"#E5ECF6\",\"polar\":{\"bgcolor\":\"#E5ECF6\",\"angularaxis\":{\"gridcolor\":\"white\",\"linecolor\":\"white\",\"ticks\":\"\"},\"radialaxis\":{\"gridcolor\":\"white\",\"linecolor\":\"white\",\"ticks\":\"\"}},\"ternary\":{\"bgcolor\":\"#E5ECF6\",\"aaxis\":{\"gridcolor\":\"white\",\"linecolor\":\"white\",\"ticks\":\"\"},\"baxis\":{\"gridcolor\":\"white\",\"linecolor\":\"white\",\"ticks\":\"\"},\"caxis\":{\"gridcolor\":\"white\",\"linecolor\":\"white\",\"ticks\":\"\"}},\"coloraxis\":{\"colorbar\":{\"outlinewidth\":0,\"ticks\":\"\"}},\"colorscale\":{\"sequential\":[[0.0,\"#0d0887\"],[0.1111111111111111,\"#46039f\"],[0.2222222222222222,\"#7201a8\"],[0.3333333333333333,\"#9c179e\"],[0.4444444444444444,\"#bd3786\"],[0.5555555555555556,\"#d8576b\"],[0.6666666666666666,\"#ed7953\"],[0.7777777777777778,\"#fb9f3a\"],[0.8888888888888888,\"#fdca26\"],[1.0,\"#f0f921\"]],\"sequentialminus\":[[0.0,\"#0d0887\"],[0.1111111111111111,\"#46039f\"],[0.2222222222222222,\"#7201a8\"],[0.3333333333333333,\"#9c179e\"],[0.4444444444444444,\"#bd3786\"],[0.5555555555555556,\"#d8576b\"],[0.6666666666666666,\"#ed7953\"],[0.7777777777777778,\"#fb9f3a\"],[0.8888888888888888,\"#fdca26\"],[1.0,\"#f0f921\"]],\"diverging\":[[0,\"#8e0152\"],[0.1,\"#c51b7d\"],[0.2,\"#de77ae\"],[0.3,\"#f1b6da\"],[0.4,\"#fde0ef\"],[0.5,\"#f7f7f7\"],[0.6,\"#e6f5d0\"],[0.7,\"#b8e186\"],[0.8,\"#7fbc41\"],[0.9,\"#4d9221\"],[1,\"#276419\"]]},\"xaxis\":{\"gridcolor\":\"white\",\"linecolor\":\"white\",\"ticks\":\"\",\"title\":{\"standoff\":15},\"zerolinecolor\":\"white\",\"automargin\":true,\"zerolinewidth\":2},\"yaxis\":{\"gridcolor\":\"white\",\"linecolor\":\"white\",\"ticks\":\"\",\"title\":{\"standoff\":15},\"zerolinecolor\":\"white\",\"automargin\":true,\"zerolinewidth\":2},\"scene\":{\"xaxis\":{\"backgroundcolor\":\"#E5ECF6\",\"gridcolor\":\"white\",\"linecolor\":\"white\",\"showbackground\":true,\"ticks\":\"\",\"zerolinecolor\":\"white\",\"gridwidth\":2},\"yaxis\":{\"backgroundcolor\":\"#E5ECF6\",\"gridcolor\":\"white\",\"linecolor\":\"white\",\"showbackground\":true,\"ticks\":\"\",\"zerolinecolor\":\"white\",\"gridwidth\":2},\"zaxis\":{\"backgroundcolor\":\"#E5ECF6\",\"gridcolor\":\"white\",\"linecolor\":\"white\",\"showbackground\":true,\"ticks\":\"\",\"zerolinecolor\":\"white\",\"gridwidth\":2}},\"shapedefaults\":{\"line\":{\"color\":\"#2a3f5f\"}},\"annotationdefaults\":{\"arrowcolor\":\"#2a3f5f\",\"arrowhead\":0,\"arrowwidth\":1},\"geo\":{\"bgcolor\":\"white\",\"landcolor\":\"#E5ECF6\",\"subunitcolor\":\"white\",\"showland\":true,\"showlakes\":true,\"lakecolor\":\"white\"},\"title\":{\"x\":0.05},\"mapbox\":{\"style\":\"light\"}}},\"xaxis\":{\"anchor\":\"y\",\"domain\":[0.0,0.45],\"title\":{\"text\":\"Epoch\"}},\"yaxis\":{\"anchor\":\"x\",\"domain\":[0.0,1.0],\"title\":{\"text\":\"Root Mean Squared Error\"},\"range\":[2.8802688598632815,378.48480224609375]},\"scene\":{\"domain\":{\"x\":[0.55,1.0],\"y\":[0.0,1.0]},\"xaxis\":{\"title\":{\"text\":\"TRIP_MILES\"}},\"yaxis\":{\"title\":{\"text\":\"TRIP_SECONDS\"}},\"zaxis\":{\"title\":{\"text\":\"FARE\"}}},\"annotations\":[{\"font\":{\"size\":16},\"showarrow\":false,\"text\":\"Loss Curve\",\"x\":0.225,\"xanchor\":\"center\",\"xref\":\"paper\",\"y\":1.0,\"yanchor\":\"bottom\",\"yref\":\"paper\"},{\"font\":{\"size\":16},\"showarrow\":false,\"text\":\"Model Plot\",\"x\":0.775,\"xanchor\":\"center\",\"xref\":\"paper\",\"y\":1.0,\"yanchor\":\"bottom\",\"yref\":\"paper\"}]},                        {\"responsive\": true}                    ).then(function(){\n",
       "                            \n",
       "var gd = document.getElementById('19e61a28-7900-4a87-9634-f5e45f56526a');\n",
       "var x = new MutationObserver(function (mutations, observer) {{\n",
       "        var display = window.getComputedStyle(gd).display;\n",
       "        if (!display || display === 'none') {{\n",
       "            console.log([gd, 'removed!']);\n",
       "            Plotly.purge(gd);\n",
       "            observer.disconnect();\n",
       "        }}\n",
       "}});\n",
       "\n",
       "// Listen for the removal of the full notebook cells\n",
       "var notebookContainer = gd.closest('#notebook-container');\n",
       "if (notebookContainer) {{\n",
       "    x.observe(notebookContainer, {childList: true});\n",
       "}}\n",
       "\n",
       "// Listen for the clearing of the current output cell\n",
       "var outputEl = gd.closest('.output');\n",
       "if (outputEl) {{\n",
       "    x.observe(outputEl, {childList: true});\n",
       "}}\n",
       "\n",
       "                        })                };                });            </script>        </div>"
      ]
     },
     "metadata": {},
     "output_type": "display_data"
    }
   ],
   "source": [
    "# Experiment 2 - Multifeature\n",
    "\n",
    "# The following variables are the hyperparameters.\n",
    "learning_rate = 0.001\n",
    "epochs = 20\n",
    "batch_size = 50\n",
    "\n",
    "training_df['TRIP_MINUTES'] = training_df['TRIP_SECONDS']/60\n",
    "# Specify the feature and the label.\n",
    "features = ['TRIP_MILES', 'TRIP_SECONDS']\n",
    "label = 'FARE'\n",
    "\n",
    "model_1 = run_experiment(training_df, features, label, learning_rate, epochs, batch_size)"
   ]
  },
  {
   "cell_type": "code",
   "execution_count": null,
   "id": "5cc54843-f34c-492a-8cc2-2ead6112583f",
   "metadata": {},
   "outputs": [],
   "source": []
  }
 ],
 "metadata": {
  "kernelspec": {
   "display_name": "Python 3 (ipykernel)",
   "language": "python",
   "name": "python3"
  },
  "language_info": {
   "codemirror_mode": {
    "name": "ipython",
    "version": 3
   },
   "file_extension": ".py",
   "mimetype": "text/x-python",
   "name": "python",
   "nbconvert_exporter": "python",
   "pygments_lexer": "ipython3",
   "version": "3.12.6"
  }
 },
 "nbformat": 4,
 "nbformat_minor": 5
}
